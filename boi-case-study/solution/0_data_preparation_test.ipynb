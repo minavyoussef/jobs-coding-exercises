{
 "cells": [
  {
   "cell_type": "markdown",
   "metadata": {},
   "source": [
    "# Data Preparation (Test)"
   ]
  },
  {
   "cell_type": "markdown",
   "metadata": {},
   "source": [
    "Same as what we did in **0_data_preparation** we need to prepare the test data as Abstract base table"
   ]
  },
  {
   "cell_type": "code",
   "execution_count": 1,
   "metadata": {
    "collapsed": true
   },
   "outputs": [],
   "source": [
    "import pandas as pd\n",
    "import numpy as np\n",
    "\n",
    "from IPython.core.interactiveshell import InteractiveShell\n",
    "InteractiveShell.ast_node_interactivity = \"all\""
   ]
  },
  {
   "cell_type": "markdown",
   "metadata": {},
   "source": [
    "### Load *.csv"
   ]
  },
  {
   "cell_type": "code",
   "execution_count": 2,
   "metadata": {
    "collapsed": false
   },
   "outputs": [],
   "source": [
    "df_test_demographics = pd.read_csv(\"../specs/Test Sample/TEST - Demographics.csv\", encoding='latin-1', index_col=False)\n",
    "df_test_previous_load_holdings = pd.read_csv(\"../specs/Test Sample/TEST- Previous Loan Holdings.csv\", encoding='latin-1', index_col=False)\n",
    "df_test_product_held_in_bank = pd.read_csv(\"../specs/Test Sample/TEST - Product Held in Bank.csv\", encoding='latin-1', index_col=False)\n",
    "df_test_avg_txn_amount = pd.read_csv(\"../specs/Test Sample/TEST - TXN Amount.csv\", encoding='latin-1', index_col=False)\n",
    "df_test_ca_txn = pd.read_csv(\"../specs/Test Sample/Model Build - Transactions out of Current Account.csv\", encoding='latin-1', index_col=False)\n"
   ]
  },
  {
   "cell_type": "markdown",
   "metadata": {},
   "source": [
    "### Investigate duplicate customers records, if any"
   ]
  },
  {
   "cell_type": "code",
   "execution_count": 3,
   "metadata": {
    "collapsed": false
   },
   "outputs": [
    {
     "name": "stdout",
     "output_type": "stream",
     "text": [
      "TEST - Demographics.csv does not contains duplicate records\n",
      "---------------------------------------------------------------------------------------\n",
      "TEST - Previous Loan Holdings.csv does not contains duplicate records\n",
      "---------------------------------------------------------------------------------------\n",
      "TEST - Product Held in Bank.csv does not contains duplicate records\n",
      "---------------------------------------------------------------------------------------\n",
      "TEST - TXN Amount.csv does not contains duplicate records\n",
      "---------------------------------------------------------------------------------------\n",
      "Model Build - Transactions out of Current Account.csv does not contains duplicate records\n",
      "---------------------------------------------------------------------------------------\n"
     ]
    }
   ],
   "source": [
    "def print_duplicate_status(df, df_name):\n",
    "    s = df.ClientID.value_counts()\n",
    "    dup_list = s[s > 1].index\n",
    "    if len(dup_list) == 0:\n",
    "        print(df_name + \" does not contains duplicate records\")\n",
    "    else:\n",
    "        print(df_name + \" contains duplicate records\")\n",
    "        print(df.loc[df['ClientID'].isin(dup_list)])\n",
    "        \n",
    "    print(\"---------------------------------------------------------------------------------------\")\n",
    "\n",
    "print_duplicate_status(df_test_demographics, \"TEST - Demographics.csv\")\n",
    "print_duplicate_status(df_test_previous_load_holdings, \"TEST - Previous Loan Holdings.csv\")\n",
    "print_duplicate_status(df_test_product_held_in_bank, \"TEST - Product Held in Bank.csv\")\n",
    "print_duplicate_status(df_test_avg_txn_amount, \"TEST - TXN Amount.csv\")\n",
    "print_duplicate_status(df_test_ca_txn, \"Model Build - Transactions out of Current Account.csv\")\n"
   ]
  },
  {
   "cell_type": "markdown",
   "metadata": {},
   "source": [
    "## Conclusion:\n",
    "As we do not have any duplicate entries we continue on merging up all the dataframe in ABT"
   ]
  },
  {
   "cell_type": "code",
   "execution_count": 4,
   "metadata": {
    "collapsed": false
   },
   "outputs": [
    {
     "data": {
      "text/html": [
       "<div>\n",
       "<table border=\"1\" class=\"dataframe\">\n",
       "  <thead>\n",
       "    <tr style=\"text-align: right;\">\n",
       "      <th></th>\n",
       "      <th>ClientID</th>\n",
       "      <th>Age</th>\n",
       "      <th>Gender</th>\n",
       "      <th>County</th>\n",
       "      <th>IncomeGroup</th>\n",
       "      <th>HeldLoanPreviously</th>\n",
       "      <th>NumberOfProductsInbank</th>\n",
       "      <th>AverageTXNAmount</th>\n",
       "      <th>NumTransactions</th>\n",
       "      <th>LastTXNAmount</th>\n",
       "      <th>MerchantCode</th>\n",
       "      <th>LastTransactionNarrative</th>\n",
       "    </tr>\n",
       "  </thead>\n",
       "  <tbody>\n",
       "    <tr>\n",
       "      <th>0</th>\n",
       "      <td>10001</td>\n",
       "      <td>59</td>\n",
       "      <td>1</td>\n",
       "      <td>Cork</td>\n",
       "      <td>10001 - 40000</td>\n",
       "      <td>0</td>\n",
       "      <td>4</td>\n",
       "      <td>22</td>\n",
       "      <td>2</td>\n",
       "      <td>12.59</td>\n",
       "      <td>7375</td>\n",
       "      <td>MYWHEELS IE              DUBLIN 2</td>\n",
       "    </tr>\n",
       "    <tr>\n",
       "      <th>1</th>\n",
       "      <td>10002</td>\n",
       "      <td>27</td>\n",
       "      <td>1</td>\n",
       "      <td>Kerry</td>\n",
       "      <td>10001 - 40000</td>\n",
       "      <td>0</td>\n",
       "      <td>4</td>\n",
       "      <td>11</td>\n",
       "      <td>0</td>\n",
       "      <td>30.00</td>\n",
       "      <td>7531</td>\n",
       "      <td>MAXOL/MACE BRENNAN'S     NEWBRIDGE</td>\n",
       "    </tr>\n",
       "    <tr>\n",
       "      <th>2</th>\n",
       "      <td>10003</td>\n",
       "      <td>58</td>\n",
       "      <td>0</td>\n",
       "      <td>Louth</td>\n",
       "      <td>10001 - 40000</td>\n",
       "      <td>0</td>\n",
       "      <td>2</td>\n",
       "      <td>9</td>\n",
       "      <td>28</td>\n",
       "      <td>1003.01</td>\n",
       "      <td>5533</td>\n",
       "      <td>Finglas Autoparts Limit  Dublin</td>\n",
       "    </tr>\n",
       "  </tbody>\n",
       "</table>\n",
       "</div>"
      ],
      "text/plain": [
       "   ClientID  Age  Gender County    IncomeGroup  HeldLoanPreviously  \\\n",
       "0     10001   59       1   Cork  10001 - 40000                   0   \n",
       "1     10002   27       1  Kerry  10001 - 40000                   0   \n",
       "2     10003   58       0  Louth  10001 - 40000                   0   \n",
       "\n",
       "   NumberOfProductsInbank  AverageTXNAmount  NumTransactions  LastTXNAmount  \\\n",
       "0                       4                22                2          12.59   \n",
       "1                       4                11                0          30.00   \n",
       "2                       2                 9               28        1003.01   \n",
       "\n",
       "   MerchantCode            LastTransactionNarrative  \n",
       "0          7375   MYWHEELS IE              DUBLIN 2  \n",
       "1          7531  MAXOL/MACE BRENNAN'S     NEWBRIDGE  \n",
       "2          5533     Finglas Autoparts Limit  Dublin  "
      ]
     },
     "execution_count": 4,
     "metadata": {},
     "output_type": "execute_result"
    },
    {
     "data": {
      "text/html": [
       "<div>\n",
       "<table border=\"1\" class=\"dataframe\">\n",
       "  <thead>\n",
       "    <tr style=\"text-align: right;\">\n",
       "      <th></th>\n",
       "      <th>ClientID</th>\n",
       "      <th>Age</th>\n",
       "      <th>Gender</th>\n",
       "      <th>County</th>\n",
       "      <th>IncomeGroup</th>\n",
       "      <th>HeldLoanPreviously</th>\n",
       "      <th>NumberOfProductsInbank</th>\n",
       "      <th>AverageTXNAmount</th>\n",
       "      <th>NumTransactions</th>\n",
       "      <th>LastTXNAmount</th>\n",
       "      <th>MerchantCode</th>\n",
       "      <th>LastTransactionNarrative</th>\n",
       "    </tr>\n",
       "  </thead>\n",
       "  <tbody>\n",
       "    <tr>\n",
       "      <th>1997</th>\n",
       "      <td>11998</td>\n",
       "      <td>33</td>\n",
       "      <td>1</td>\n",
       "      <td>Cork</td>\n",
       "      <td>100000+</td>\n",
       "      <td>0</td>\n",
       "      <td>1</td>\n",
       "      <td>439</td>\n",
       "      <td>3</td>\n",
       "      <td>561.44</td>\n",
       "      <td>3069</td>\n",
       "      <td>SUNCTRYAIR  3378204673043SAINT PAUL   MN</td>\n",
       "    </tr>\n",
       "    <tr>\n",
       "      <th>1998</th>\n",
       "      <td>11999</td>\n",
       "      <td>37</td>\n",
       "      <td>1</td>\n",
       "      <td>Dublin</td>\n",
       "      <td>60001 - 100000</td>\n",
       "      <td>0</td>\n",
       "      <td>2</td>\n",
       "      <td>855</td>\n",
       "      <td>1</td>\n",
       "      <td>1117.40</td>\n",
       "      <td>3049</td>\n",
       "      <td>TUNIS AIR                75PARIS 8 VPC</td>\n",
       "    </tr>\n",
       "    <tr>\n",
       "      <th>1999</th>\n",
       "      <td>12000</td>\n",
       "      <td>24</td>\n",
       "      <td>1</td>\n",
       "      <td>Dublin</td>\n",
       "      <td>10001 - 40000</td>\n",
       "      <td>0</td>\n",
       "      <td>4</td>\n",
       "      <td>1373</td>\n",
       "      <td>7</td>\n",
       "      <td>12.20</td>\n",
       "      <td>9402</td>\n",
       "      <td>AN POST-OFFICES          DUBLIN</td>\n",
       "    </tr>\n",
       "  </tbody>\n",
       "</table>\n",
       "</div>"
      ],
      "text/plain": [
       "      ClientID  Age  Gender  County     IncomeGroup  HeldLoanPreviously  \\\n",
       "1997     11998   33       1    Cork         100000+                   0   \n",
       "1998     11999   37       1  Dublin  60001 - 100000                   0   \n",
       "1999     12000   24       1  Dublin   10001 - 40000                   0   \n",
       "\n",
       "      NumberOfProductsInbank  AverageTXNAmount  NumTransactions  \\\n",
       "1997                       1               439                3   \n",
       "1998                       2               855                1   \n",
       "1999                       4              1373                7   \n",
       "\n",
       "      LastTXNAmount  MerchantCode                  LastTransactionNarrative  \n",
       "1997         561.44          3069  SUNCTRYAIR  3378204673043SAINT PAUL   MN  \n",
       "1998        1117.40          3049    TUNIS AIR                75PARIS 8 VPC  \n",
       "1999          12.20          9402           AN POST-OFFICES          DUBLIN  "
      ]
     },
     "execution_count": 4,
     "metadata": {},
     "output_type": "execute_result"
    }
   ],
   "source": [
    "# features\n",
    "df_test_abt = pd.merge(left=df_test_demographics, right=df_test_previous_load_holdings, how='left', left_on='ClientID', right_on='ClientID')\n",
    "df_test_abt = pd.merge(left=df_test_abt, right=df_test_product_held_in_bank, how='left', left_on='ClientID', right_on='ClientID')\n",
    "df_test_abt = pd.merge(left=df_test_abt, right=df_test_avg_txn_amount, how='left', left_on='ClientID', right_on='ClientID')\n",
    "df_test_abt = pd.merge(left=df_test_abt, right=df_test_ca_txn, how='left', left_on='ClientID', right_on='ClientID')\n",
    "\n",
    "df_test_abt.head(3)\n",
    "df_test_abt.tail(3)\n"
   ]
  },
  {
   "cell_type": "markdown",
   "metadata": {},
   "source": [
    "As we expected we have *2000* client test information"
   ]
  },
  {
   "cell_type": "markdown",
   "metadata": {},
   "source": [
    "## Persist ABT for future analysis"
   ]
  },
  {
   "cell_type": "code",
   "execution_count": 5,
   "metadata": {
    "collapsed": false
   },
   "outputs": [],
   "source": [
    "pd.DataFrame.to_csv(df_test_abt, \"../specs/clean/Test Sample/TEST - AbastractBaseTable.csv\", encoding='utf-8', index=False)"
   ]
  },
  {
   "cell_type": "code",
   "execution_count": null,
   "metadata": {
    "collapsed": true
   },
   "outputs": [],
   "source": []
  }
 ],
 "metadata": {
  "kernelspec": {
   "display_name": "Python 3",
   "language": "python",
   "name": "python3"
  },
  "language_info": {
   "codemirror_mode": {
    "name": "ipython",
    "version": 3
   },
   "file_extension": ".py",
   "mimetype": "text/x-python",
   "name": "python",
   "nbconvert_exporter": "python",
   "pygments_lexer": "ipython3",
   "version": "3.6.0"
  }
 },
 "nbformat": 4,
 "nbformat_minor": 2
}
