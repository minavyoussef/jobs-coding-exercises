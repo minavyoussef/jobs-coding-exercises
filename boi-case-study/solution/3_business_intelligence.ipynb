{
 "cells": [
  {
   "cell_type": "markdown",
   "metadata": {},
   "source": [
    "# Answering BI questions"
   ]
  },
  {
   "cell_type": "markdown",
   "metadata": {},
   "source": [
    "## The following are the answers to Section I"
   ]
  },
  {
   "cell_type": "code",
   "execution_count": 1,
   "metadata": {
    "collapsed": true
   },
   "outputs": [],
   "source": [
    "import pandas as pd\n",
    "import numpy as np\n",
    "import re\n",
    "import matplotlib.pyplot as plt\n",
    "%matplotlib inline  \n",
    "\n",
    "from IPython.display import display, HTML\n",
    "from IPython.core.interactiveshell import InteractiveShell\n",
    "InteractiveShell.ast_node_interactivity = \"all\""
   ]
  },
  {
   "cell_type": "markdown",
   "metadata": {},
   "source": [
    "### How Many Customers above 50 years old have taken up a loan?"
   ]
  },
  {
   "cell_type": "code",
   "execution_count": 2,
   "metadata": {
    "collapsed": false
   },
   "outputs": [
    {
     "data": {
      "text/html": [
       "<div>\n",
       "<table border=\"1\" class=\"dataframe\">\n",
       "  <thead>\n",
       "    <tr style=\"text-align: right;\">\n",
       "      <th></th>\n",
       "      <th>ClientID</th>\n",
       "      <th>Age</th>\n",
       "      <th>Gender</th>\n",
       "      <th>County</th>\n",
       "      <th>IncomeGroup</th>\n",
       "      <th>HeldLoanPreviously</th>\n",
       "      <th>NumberOfProductsInbank</th>\n",
       "      <th>AverageTXNAmount</th>\n",
       "      <th>NumTransactions</th>\n",
       "      <th>LastTXNAmount</th>\n",
       "      <th>MerchantCode</th>\n",
       "      <th>LastTransactionNarrative</th>\n",
       "      <th>LoanFlag</th>\n",
       "    </tr>\n",
       "  </thead>\n",
       "  <tbody>\n",
       "    <tr>\n",
       "      <th>0</th>\n",
       "      <td>1</td>\n",
       "      <td>36</td>\n",
       "      <td>Female</td>\n",
       "      <td>Cork</td>\n",
       "      <td>10001 - 40000</td>\n",
       "      <td>1</td>\n",
       "      <td>4</td>\n",
       "      <td>58.000</td>\n",
       "      <td>0.0</td>\n",
       "      <td>NaN</td>\n",
       "      <td>NaN</td>\n",
       "      <td>NaN</td>\n",
       "      <td>0</td>\n",
       "    </tr>\n",
       "    <tr>\n",
       "      <th>1</th>\n",
       "      <td>2</td>\n",
       "      <td>43</td>\n",
       "      <td>Female</td>\n",
       "      <td>Cavan</td>\n",
       "      <td>0 - 10000</td>\n",
       "      <td>0</td>\n",
       "      <td>4</td>\n",
       "      <td>2.663</td>\n",
       "      <td>17.0</td>\n",
       "      <td>83.66</td>\n",
       "      <td>7211.0</td>\n",
       "      <td>THE BRIDGE LAUNDRY       WICKLOW TOWN</td>\n",
       "      <td>0</td>\n",
       "    </tr>\n",
       "    <tr>\n",
       "      <th>2</th>\n",
       "      <td>3</td>\n",
       "      <td>32</td>\n",
       "      <td>Male</td>\n",
       "      <td>Dublin</td>\n",
       "      <td>10001 - 40000</td>\n",
       "      <td>0</td>\n",
       "      <td>2</td>\n",
       "      <td>46.000</td>\n",
       "      <td>25.0</td>\n",
       "      <td>526.18</td>\n",
       "      <td>3667.0</td>\n",
       "      <td>LUXOR HOTEL/CASINO       LAS VEGAS    NV</td>\n",
       "      <td>0</td>\n",
       "    </tr>\n",
       "    <tr>\n",
       "      <th>3</th>\n",
       "      <td>4</td>\n",
       "      <td>52</td>\n",
       "      <td>Female</td>\n",
       "      <td>Louth</td>\n",
       "      <td>40001 - 60000</td>\n",
       "      <td>1</td>\n",
       "      <td>2</td>\n",
       "      <td>0.000</td>\n",
       "      <td>13.0</td>\n",
       "      <td>70.68</td>\n",
       "      <td>5712.0</td>\n",
       "      <td>HARVEY NORMAN            CARRICKMINES</td>\n",
       "      <td>0</td>\n",
       "    </tr>\n",
       "    <tr>\n",
       "      <th>4</th>\n",
       "      <td>5</td>\n",
       "      <td>63</td>\n",
       "      <td>Male</td>\n",
       "      <td>Kilkenny</td>\n",
       "      <td>60001 - 100000</td>\n",
       "      <td>0</td>\n",
       "      <td>1</td>\n",
       "      <td>126.000</td>\n",
       "      <td>39.0</td>\n",
       "      <td>259.07</td>\n",
       "      <td>5999.0</td>\n",
       "      <td>PAYPAL *PETEWOODWAR      35314369001</td>\n",
       "      <td>0</td>\n",
       "    </tr>\n",
       "  </tbody>\n",
       "</table>\n",
       "</div>"
      ],
      "text/plain": [
       "   ClientID  Age  Gender    County     IncomeGroup  HeldLoanPreviously  \\\n",
       "0         1   36  Female      Cork   10001 - 40000                   1   \n",
       "1         2   43  Female     Cavan       0 - 10000                   0   \n",
       "2         3   32    Male    Dublin   10001 - 40000                   0   \n",
       "3         4   52  Female     Louth   40001 - 60000                   1   \n",
       "4         5   63    Male  Kilkenny  60001 - 100000                   0   \n",
       "\n",
       "   NumberOfProductsInbank  AverageTXNAmount  NumTransactions  LastTXNAmount  \\\n",
       "0                       4            58.000              0.0            NaN   \n",
       "1                       4             2.663             17.0          83.66   \n",
       "2                       2            46.000             25.0         526.18   \n",
       "3                       2             0.000             13.0          70.68   \n",
       "4                       1           126.000             39.0         259.07   \n",
       "\n",
       "   MerchantCode                  LastTransactionNarrative  LoanFlag  \n",
       "0           NaN                                       NaN         0  \n",
       "1        7211.0     THE BRIDGE LAUNDRY       WICKLOW TOWN         0  \n",
       "2        3667.0  LUXOR HOTEL/CASINO       LAS VEGAS    NV         0  \n",
       "3        5712.0     HARVEY NORMAN            CARRICKMINES         0  \n",
       "4        5999.0      PAYPAL *PETEWOODWAR      35314369001         0  "
      ]
     },
     "execution_count": 2,
     "metadata": {},
     "output_type": "execute_result"
    }
   ],
   "source": [
    "df_abt = pd.read_csv(\"../specs/clean/Model Build - AbastractBaseTable - Validated.csv\", encoding='latin-1', index_col=False)\n",
    "df_abt.head(5)"
   ]
  },
  {
   "cell_type": "code",
   "execution_count": 3,
   "metadata": {
    "collapsed": false
   },
   "outputs": [
    {
     "data": {
      "text/html": [
       "<div>\n",
       "<table border=\"1\" class=\"dataframe\">\n",
       "  <thead>\n",
       "    <tr style=\"text-align: right;\">\n",
       "      <th>LoanFlag</th>\n",
       "      <th>0</th>\n",
       "      <th>1</th>\n",
       "      <th>Total</th>\n",
       "    </tr>\n",
       "  </thead>\n",
       "  <tbody>\n",
       "    <tr>\n",
       "      <th>Female</th>\n",
       "      <td>1894</td>\n",
       "      <td>48</td>\n",
       "      <td>1942</td>\n",
       "    </tr>\n",
       "    <tr>\n",
       "      <th>Male</th>\n",
       "      <td>1810</td>\n",
       "      <td>48</td>\n",
       "      <td>1858</td>\n",
       "    </tr>\n",
       "    <tr>\n",
       "      <th>Total</th>\n",
       "      <td>3704</td>\n",
       "      <td>96</td>\n",
       "      <td>3800</td>\n",
       "    </tr>\n",
       "  </tbody>\n",
       "</table>\n",
       "</div>"
      ],
      "text/plain": [
       "LoanFlag     0   1  Total\n",
       "Female    1894  48   1942\n",
       "Male      1810  48   1858\n",
       "Total     3704  96   3800"
      ]
     },
     "metadata": {},
     "output_type": "display_data"
    },
    {
     "name": "stdout",
     "output_type": "stream",
     "text": [
      "Total number of customer above 50 yr took a loan is 96\n"
     ]
    },
    {
     "data": {
      "image/png": "[encoded data removed]",
      "text/plain": [
       "<matplotlib.figure.Figure at 0x265fb948828>"
      ]
     },
     "metadata": {},
     "output_type": "display_data"
    }
   ],
   "source": [
    "df = df_abt[(df_abt['Age'] > 50)][['Gender','LoanFlag']]\n",
    "confusion_df = df.groupby(['Gender', 'LoanFlag']).size().unstack(-1)\n",
    "\n",
    "# Adding total\n",
    "total = confusion_df.apply(np.sum)\n",
    "df_total = pd.DataFrame(total.values, index=total.keys()).T\n",
    "df_total.index = [\"Total\"]\n",
    "confusion_df = confusion_df.append(df_total, ignore_index=False)\n",
    "confusion_df['Total'] = confusion_df.sum(axis=1)\n",
    "\n",
    "# Plot\n",
    "display(confusion_df)\n",
    "confusion_df.plot.bar();\n",
    "print(\"Total number of customer above 50 yr took a loan is 96\");\n"
   ]
  },
  {
   "cell_type": "markdown",
   "metadata": {},
   "source": [
    "### How Many Females aged 30 to 40 have more than 2 products? \n",
    "    "
   ]
  },
  {
   "cell_type": "code",
   "execution_count": 4,
   "metadata": {
    "collapsed": false
   },
   "outputs": [
    {
     "data": {
      "text/html": [
       "<div>\n",
       "<table border=\"1\" class=\"dataframe\">\n",
       "  <thead>\n",
       "    <tr style=\"text-align: right;\">\n",
       "      <th>NumberOfProductsInbank</th>\n",
       "      <th>3</th>\n",
       "      <th>4</th>\n",
       "      <th>5</th>\n",
       "      <th>Total</th>\n",
       "    </tr>\n",
       "  </thead>\n",
       "  <tbody>\n",
       "    <tr>\n",
       "      <th>Female</th>\n",
       "      <td>215</td>\n",
       "      <td>193</td>\n",
       "      <td>209</td>\n",
       "      <td>617</td>\n",
       "    </tr>\n",
       "    <tr>\n",
       "      <th>Male</th>\n",
       "      <td>209</td>\n",
       "      <td>210</td>\n",
       "      <td>203</td>\n",
       "      <td>622</td>\n",
       "    </tr>\n",
       "    <tr>\n",
       "      <th>Total</th>\n",
       "      <td>424</td>\n",
       "      <td>403</td>\n",
       "      <td>412</td>\n",
       "      <td>1239</td>\n",
       "    </tr>\n",
       "  </tbody>\n",
       "</table>\n",
       "</div>"
      ],
      "text/plain": [
       "NumberOfProductsInbank    3    4    5  Total\n",
       "Female                  215  193  209    617\n",
       "Male                    209  210  203    622\n",
       "Total                   424  403  412   1239"
      ]
     },
     "metadata": {},
     "output_type": "display_data"
    },
    {
     "data": {
      "image/png": "[encoded data removed]",
      "text/plain": [
       "<matplotlib.figure.Figure at 0x265fe424198>"
      ]
     },
     "metadata": {},
     "output_type": "display_data"
    }
   ],
   "source": [
    "df = df_abt[(df_abt['Age'] >= 30) & (df_abt['Age'] <= 40) & (df_abt['NumberOfProductsInbank'] > 2)]\\\n",
    "    [['Gender','NumberOfProductsInbank']]\n",
    "confusion_df = df.groupby(['Gender', 'NumberOfProductsInbank']).size().unstack(-1)\n",
    "\n",
    "# Adding total\n",
    "total = confusion_df.apply(np.sum)\n",
    "df_total = pd.DataFrame(total.values, index=total.keys()).T\n",
    "df_total.index = [\"Total\"]\n",
    "confusion_df = confusion_df.append(df_total, ignore_index=False)\n",
    "confusion_df['Total'] = confusion_df.sum(axis=1)\n",
    "\n",
    "# Display and Plot\n",
    "display(confusion_df)\n",
    "confusion_df.plot.bar();"
   ]
  },
  {
   "cell_type": "markdown",
   "metadata": {},
   "source": [
    "### What is the average number of Current Account(CA) Transactions for males who had a previous Loans"
   ]
  },
  {
   "cell_type": "code",
   "execution_count": 5,
   "metadata": {
    "collapsed": false
   },
   "outputs": [
    {
     "data": {
      "text/html": [
       "<div>\n",
       "<table border=\"1\" class=\"dataframe\">\n",
       "  <thead>\n",
       "    <tr>\n",
       "      <th></th>\n",
       "      <th colspan=\"2\" halign=\"left\">AverageTXNAmount</th>\n",
       "    </tr>\n",
       "    <tr>\n",
       "      <th></th>\n",
       "      <th>count</th>\n",
       "      <th>mean</th>\n",
       "    </tr>\n",
       "    <tr>\n",
       "      <th>LoanFlag</th>\n",
       "      <th></th>\n",
       "      <th></th>\n",
       "    </tr>\n",
       "  </thead>\n",
       "  <tbody>\n",
       "    <tr>\n",
       "      <th>0</th>\n",
       "      <td>4797</td>\n",
       "      <td>92.606891</td>\n",
       "    </tr>\n",
       "    <tr>\n",
       "      <th>1</th>\n",
       "      <td>100</td>\n",
       "      <td>62.631880</td>\n",
       "    </tr>\n",
       "  </tbody>\n",
       "</table>\n",
       "</div>"
      ],
      "text/plain": [
       "         AverageTXNAmount           \n",
       "                    count       mean\n",
       "LoanFlag                            \n",
       "0                    4797  92.606891\n",
       "1                     100  62.631880"
      ]
     },
     "metadata": {},
     "output_type": "display_data"
    },
    {
     "data": {
      "image/png": "[encoded data removed]",
      "text/plain": [
       "<matplotlib.figure.Figure at 0x265feed6ef0>"
      ]
     },
     "metadata": {},
     "output_type": "display_data"
    }
   ],
   "source": [
    "df = df_abt[(df_abt['Gender'] == 'Male')][['LoanFlag', 'AverageTXNAmount']]\n",
    "confusion_df = df.groupby(['LoanFlag']).agg(['count', 'mean'])\n",
    "confusion_df\n",
    "\n",
    "# Display and Plot\n",
    "display(confusion_df)\n",
    "confusion_df.plot.bar(title=\"Avg. TXN Amount VS. No of accounts (with/without loans) [Males]\");"
   ]
  },
  {
   "cell_type": "markdown",
   "metadata": {},
   "source": [
    "### How many females did not have a previous loans and who are aged\n",
    "#### \tLess than 20\n",
    "#### \t21 to 40\n",
    "#### \t40+\n"
   ]
  },
  {
   "cell_type": "code",
   "execution_count": 6,
   "metadata": {
    "collapsed": false
   },
   "outputs": [
    {
     "data": {
      "text/html": [
       "<div>\n",
       "<table border=\"1\" class=\"dataframe\">\n",
       "  <thead>\n",
       "    <tr style=\"text-align: right;\">\n",
       "      <th></th>\n",
       "      <th>Age</th>\n",
       "    </tr>\n",
       "    <tr>\n",
       "      <th>Age</th>\n",
       "      <th></th>\n",
       "    </tr>\n",
       "  </thead>\n",
       "  <tbody>\n",
       "    <tr>\n",
       "      <th>(0, 20]</th>\n",
       "      <td>115</td>\n",
       "    </tr>\n",
       "    <tr>\n",
       "      <th>(20, 40]</th>\n",
       "      <td>1842</td>\n",
       "    </tr>\n",
       "    <tr>\n",
       "      <th>(40, 100]</th>\n",
       "      <td>3009</td>\n",
       "    </tr>\n",
       "  </tbody>\n",
       "</table>\n",
       "</div>"
      ],
      "text/plain": [
       "            Age\n",
       "Age            \n",
       "(0, 20]     115\n",
       "(20, 40]   1842\n",
       "(40, 100]  3009"
      ]
     },
     "metadata": {},
     "output_type": "display_data"
    },
    {
     "data": {
      "image/png": "[encoded data removed]",
      "text/plain": [
       "<matplotlib.figure.Figure at 0x265fec2d0f0>"
      ]
     },
     "metadata": {},
     "output_type": "display_data"
    }
   ],
   "source": [
    "df = df_abt[(df_abt['Gender'] == 'Female') & (df_abt['LoanFlag'] == 0)][['Age']]\n",
    "confusion_df = df.groupby(pd.cut(df[\"Age\"], [0, 20, 40, 100])).count()\n",
    "confusion_df\n",
    "\n",
    "# Display and Plot\n",
    "display(confusion_df)\n",
    "confusion_df.plot.bar(title=\"No. of Females did not have previous loans across age group\");"
   ]
  },
  {
   "cell_type": "code",
   "execution_count": null,
   "metadata": {
    "collapsed": true
   },
   "outputs": [],
   "source": []
  },
  {
   "cell_type": "code",
   "execution_count": null,
   "metadata": {
    "collapsed": true
   },
   "outputs": [],
   "source": []
  }
 ],
 "metadata": {
  "kernelspec": {
   "display_name": "Python 3",
   "language": "python",
   "name": "python3"
  },
  "language_info": {
   "codemirror_mode": {
    "name": "ipython",
    "version": 3
   },
   "file_extension": ".py",
   "mimetype": "text/x-python",
   "name": "python",
   "nbconvert_exporter": "python",
   "pygments_lexer": "ipython3",
   "version": "3.6.0"
  }
 },
 "nbformat": 4,
 "nbformat_minor": 2
}
