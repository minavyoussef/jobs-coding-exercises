{
 "cells": [
  {
   "cell_type": "markdown",
   "metadata": {},
   "source": [
    "# Data Validation / Outliers Analysis (Test)"
   ]
  },
  {
   "cell_type": "code",
   "execution_count": 1,
   "metadata": {
    "collapsed": true
   },
   "outputs": [],
   "source": [
    "import pandas as pd\n",
    "import numpy as np\n",
    "import re\n",
    "import matplotlib.pyplot as plt\n",
    "%matplotlib inline  \n",
    "\n",
    "from IPython.core.interactiveshell import InteractiveShell\n",
    "InteractiveShell.ast_node_interactivity = \"all\""
   ]
  },
  {
   "cell_type": "code",
   "execution_count": 2,
   "metadata": {
    "collapsed": false
   },
   "outputs": [
    {
     "data": {
      "text/html": [
       "<div>\n",
       "<table border=\"1\" class=\"dataframe\">\n",
       "  <thead>\n",
       "    <tr style=\"text-align: right;\">\n",
       "      <th></th>\n",
       "      <th>ClientID</th>\n",
       "      <th>Age</th>\n",
       "      <th>Gender</th>\n",
       "      <th>County</th>\n",
       "      <th>IncomeGroup</th>\n",
       "      <th>HeldLoanPreviously</th>\n",
       "      <th>NumberOfProductsInbank</th>\n",
       "      <th>AverageTXNAmount</th>\n",
       "      <th>NumTransactions</th>\n",
       "      <th>LastTXNAmount</th>\n",
       "      <th>MerchantCode</th>\n",
       "      <th>LastTransactionNarrative</th>\n",
       "    </tr>\n",
       "  </thead>\n",
       "  <tbody>\n",
       "    <tr>\n",
       "      <th>0</th>\n",
       "      <td>10001</td>\n",
       "      <td>59</td>\n",
       "      <td>1</td>\n",
       "      <td>Cork</td>\n",
       "      <td>10001 - 40000</td>\n",
       "      <td>0</td>\n",
       "      <td>4</td>\n",
       "      <td>22</td>\n",
       "      <td>2</td>\n",
       "      <td>12.59</td>\n",
       "      <td>7375</td>\n",
       "      <td>MYWHEELS IE              DUBLIN 2</td>\n",
       "    </tr>\n",
       "    <tr>\n",
       "      <th>1</th>\n",
       "      <td>10002</td>\n",
       "      <td>27</td>\n",
       "      <td>1</td>\n",
       "      <td>Kerry</td>\n",
       "      <td>10001 - 40000</td>\n",
       "      <td>0</td>\n",
       "      <td>4</td>\n",
       "      <td>11</td>\n",
       "      <td>0</td>\n",
       "      <td>30.00</td>\n",
       "      <td>7531</td>\n",
       "      <td>MAXOL/MACE BRENNAN'S     NEWBRIDGE</td>\n",
       "    </tr>\n",
       "    <tr>\n",
       "      <th>2</th>\n",
       "      <td>10003</td>\n",
       "      <td>58</td>\n",
       "      <td>0</td>\n",
       "      <td>Louth</td>\n",
       "      <td>10001 - 40000</td>\n",
       "      <td>0</td>\n",
       "      <td>2</td>\n",
       "      <td>9</td>\n",
       "      <td>28</td>\n",
       "      <td>1003.01</td>\n",
       "      <td>5533</td>\n",
       "      <td>Finglas Autoparts Limit  Dublin</td>\n",
       "    </tr>\n",
       "    <tr>\n",
       "      <th>3</th>\n",
       "      <td>10004</td>\n",
       "      <td>45</td>\n",
       "      <td>1</td>\n",
       "      <td>Dublin</td>\n",
       "      <td>60001 - 100000</td>\n",
       "      <td>0</td>\n",
       "      <td>2</td>\n",
       "      <td>34</td>\n",
       "      <td>31</td>\n",
       "      <td>873.25</td>\n",
       "      <td>3692</td>\n",
       "      <td>DOUBLETREE               CHELSEA</td>\n",
       "    </tr>\n",
       "    <tr>\n",
       "      <th>4</th>\n",
       "      <td>10005</td>\n",
       "      <td>21</td>\n",
       "      <td>0</td>\n",
       "      <td>Dublin</td>\n",
       "      <td>40001 - 60000</td>\n",
       "      <td>0</td>\n",
       "      <td>1</td>\n",
       "      <td>38</td>\n",
       "      <td>12</td>\n",
       "      <td>926.75</td>\n",
       "      <td>3659</td>\n",
       "      <td>TAJ HOTELS INTERNATIONAL Aurangabad</td>\n",
       "    </tr>\n",
       "  </tbody>\n",
       "</table>\n",
       "</div>"
      ],
      "text/plain": [
       "   ClientID  Age  Gender  County     IncomeGroup  HeldLoanPreviously  \\\n",
       "0     10001   59       1    Cork   10001 - 40000                   0   \n",
       "1     10002   27       1   Kerry   10001 - 40000                   0   \n",
       "2     10003   58       0   Louth   10001 - 40000                   0   \n",
       "3     10004   45       1  Dublin  60001 - 100000                   0   \n",
       "4     10005   21       0  Dublin   40001 - 60000                   0   \n",
       "\n",
       "   NumberOfProductsInbank  AverageTXNAmount  NumTransactions  LastTXNAmount  \\\n",
       "0                       4                22                2          12.59   \n",
       "1                       4                11                0          30.00   \n",
       "2                       2                 9               28        1003.01   \n",
       "3                       2                34               31         873.25   \n",
       "4                       1                38               12         926.75   \n",
       "\n",
       "   MerchantCode             LastTransactionNarrative  \n",
       "0          7375    MYWHEELS IE              DUBLIN 2  \n",
       "1          7531   MAXOL/MACE BRENNAN'S     NEWBRIDGE  \n",
       "2          5533      Finglas Autoparts Limit  Dublin  \n",
       "3          3692     DOUBLETREE               CHELSEA  \n",
       "4          3659  TAJ HOTELS INTERNATIONAL Aurangabad  "
      ]
     },
     "execution_count": 2,
     "metadata": {},
     "output_type": "execute_result"
    }
   ],
   "source": [
    "df_test_abt = pd.read_csv(\"../specs/clean/Test Sample/TEST - AbastractBaseTable.csv\", encoding='latin-1', index_col=False)\n",
    "df_test_abt.head(5)"
   ]
  },
  {
   "cell_type": "markdown",
   "metadata": {},
   "source": [
    "## Age Attribute"
   ]
  },
  {
   "cell_type": "code",
   "execution_count": 3,
   "metadata": {
    "collapsed": false
   },
   "outputs": [
    {
     "data": {
      "image/png": "[encoded data removed]",
      "text/plain": [
       "<matplotlib.figure.Figure at 0x1c9507a0198>"
      ]
     },
     "metadata": {},
     "output_type": "display_data"
    }
   ],
   "source": [
    "plt.figure(figsize=(16, 5))\n",
    "plt.xlabel(\"Age\")\n",
    "plt.xlabel(\"Frequency\")\n",
    "\n",
    "df_test_abt.Age.value_counts().sort_index().plot.bar(title=\"Frequency table Client Age\");"
   ]
  },
  {
   "cell_type": "markdown",
   "metadata": {},
   "source": [
    "## Gender Attribute"
   ]
  },
  {
   "cell_type": "code",
   "execution_count": 4,
   "metadata": {
    "collapsed": false
   },
   "outputs": [
    {
     "data": {
      "image/png": "[encoded data removed]",
      "text/plain": [
       "<matplotlib.figure.Figure at 0x1c9507a0a58>"
      ]
     },
     "metadata": {},
     "output_type": "display_data"
    }
   ],
   "source": [
    "df_test_abt.Gender.value_counts().sort_index().plot.barh(title=\"Frequency table Client Gender\");"
   ]
  },
  {
   "cell_type": "markdown",
   "metadata": {},
   "source": [
    "## County Attribute\n"
   ]
  },
  {
   "cell_type": "code",
   "execution_count": 5,
   "metadata": {
    "collapsed": false
   },
   "outputs": [
    {
     "data": {
      "image/png": "[encoded data removed]",
      "text/plain": [
       "<matplotlib.figure.Figure at 0x1c95350ba58>"
      ]
     },
     "metadata": {},
     "output_type": "display_data"
    }
   ],
   "source": [
    "plt.figure(figsize=(16, 5))\n",
    "plt.xlabel(\"Counties\")\n",
    "\n",
    "df_test_abt.County.value_counts().sort_index().plot.bar(title=\"Before Counties Adjustment\");"
   ]
  },
  {
   "cell_type": "markdown",
   "metadata": {},
   "source": [
    "## IncomeGroup Attribute\n"
   ]
  },
  {
   "cell_type": "code",
   "execution_count": 6,
   "metadata": {
    "collapsed": false
   },
   "outputs": [
    {
     "data": {
      "text/plain": [
       "10001 - 40000     1130\n",
       "60001 - 100000     371\n",
       "40001 - 60000      226\n",
       "100000+            203\n",
       "0 - 10000           70\n",
       "Name: IncomeGroup, dtype: int64"
      ]
     },
     "execution_count": 6,
     "metadata": {},
     "output_type": "execute_result"
    }
   ],
   "source": [
    "df_test_abt.IncomeGroup.value_counts()"
   ]
  },
  {
   "cell_type": "markdown",
   "metadata": {},
   "source": [
    "## NumberOfProductsInbank Attribute\n"
   ]
  },
  {
   "cell_type": "code",
   "execution_count": 7,
   "metadata": {
    "collapsed": false
   },
   "outputs": [
    {
     "data": {
      "text/plain": [
       "3    404\n",
       "2    403\n",
       "4    401\n",
       "5    398\n",
       "1    394\n",
       "Name: NumberOfProductsInbank, dtype: int64"
      ]
     },
     "execution_count": 7,
     "metadata": {},
     "output_type": "execute_result"
    }
   ],
   "source": [
    "df_test_abt.NumberOfProductsInbank.value_counts()"
   ]
  },
  {
   "cell_type": "markdown",
   "metadata": {},
   "source": [
    "## AverageTXNAmount Attribute"
   ]
  },
  {
   "cell_type": "code",
   "execution_count": 8,
   "metadata": {
    "collapsed": false
   },
   "outputs": [
    {
     "data": {
      "image/png": "[encoded data removed]",
      "text/plain": [
       "<matplotlib.figure.Figure at 0x1c950997d30>"
      ]
     },
     "metadata": {},
     "output_type": "display_data"
    }
   ],
   "source": [
    "df_test_abt.AverageTXNAmount.hist();"
   ]
  },
  {
   "cell_type": "markdown",
   "metadata": {},
   "source": [
    "## HeldLoanPreviously"
   ]
  },
  {
   "cell_type": "code",
   "execution_count": 9,
   "metadata": {
    "collapsed": false
   },
   "outputs": [
    {
     "data": {
      "text/plain": [
       "0    1513\n",
       "1     487\n",
       "Name: HeldLoanPreviously, dtype: int64"
      ]
     },
     "execution_count": 9,
     "metadata": {},
     "output_type": "execute_result"
    }
   ],
   "source": [
    "df_test_abt.HeldLoanPreviously.value_counts()"
   ]
  },
  {
   "cell_type": "markdown",
   "metadata": {},
   "source": [
    "## NumTransactions\t"
   ]
  },
  {
   "cell_type": "code",
   "execution_count": 10,
   "metadata": {
    "collapsed": false
   },
   "outputs": [
    {
     "data": {
      "image/png": "[encoded data removed]",
      "text/plain": [
       "<matplotlib.figure.Figure at 0x1c953391748>"
      ]
     },
     "metadata": {},
     "output_type": "display_data"
    }
   ],
   "source": [
    "df_test_abt.NumTransactions.hist();"
   ]
  },
  {
   "cell_type": "markdown",
   "metadata": {},
   "source": [
    "## LastTXNAmount\t"
   ]
  },
  {
   "cell_type": "code",
   "execution_count": 11,
   "metadata": {
    "collapsed": false
   },
   "outputs": [
    {
     "data": {
      "image/png": "[encoded data removed]",
      "text/plain": [
       "<matplotlib.figure.Figure at 0x1c95067c8d0>"
      ]
     },
     "metadata": {},
     "output_type": "display_data"
    }
   ],
   "source": [
    "df_test_abt.LastTXNAmount.value_counts().hist();"
   ]
  },
  {
   "cell_type": "markdown",
   "metadata": {},
   "source": [
    "## MerchantCode"
   ]
  },
  {
   "cell_type": "code",
   "execution_count": 12,
   "metadata": {
    "collapsed": false
   },
   "outputs": [
    {
     "data": {
      "image/png": "[encoded data removed]",
      "text/plain": [
       "<matplotlib.figure.Figure at 0x1c954148c88>"
      ]
     },
     "metadata": {},
     "output_type": "display_data"
    }
   ],
   "source": [
    "df_test_abt.MerchantCode.value_counts().hist();"
   ]
  },
  {
   "cell_type": "markdown",
   "metadata": {},
   "source": [
    "## Conclusion"
   ]
  },
  {
   "cell_type": "markdown",
   "metadata": {},
   "source": [
    "As we can verify there are no discrapancy in the test data"
   ]
  }
 ],
 "metadata": {
  "kernelspec": {
   "display_name": "Python 3",
   "language": "python",
   "name": "python3"
  },
  "language_info": {
   "codemirror_mode": {
    "name": "ipython",
    "version": 3
   },
   "file_extension": ".py",
   "mimetype": "text/x-python",
   "name": "python",
   "nbconvert_exporter": "python",
   "pygments_lexer": "ipython3",
   "version": "3.6.0"
  }
 },
 "nbformat": 4,
 "nbformat_minor": 2
}
