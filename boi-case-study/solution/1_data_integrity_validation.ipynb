{
 "cells": [
  {
   "cell_type": "markdown",
   "metadata": {},
   "source": [
    "# Data Validation / Outliers Analysis"
   ]
  },
  {
   "cell_type": "markdown",
   "metadata": {},
   "source": [
    "As stated in the specs, data is not clean, we need to perform a validation step. One way that we will adapt is to perform validatiobn by series. In which we will factorize each series values and inspect for typos, invalid, ...etc\n",
    "And we will perform this on the final ABT we construted in **0_data_preparation** notebook"
   ]
  },
  {
   "cell_type": "code",
   "execution_count": 1,
   "metadata": {
    "collapsed": false
   },
   "outputs": [],
   "source": [
    "import pandas as pd\n",
    "import numpy as np\n",
    "import re\n",
    "import matplotlib.pyplot as plt\n",
    "%matplotlib inline  \n",
    "\n",
    "from IPython.core.interactiveshell import InteractiveShell\n",
    "InteractiveShell.ast_node_interactivity = \"all\""
   ]
  },
  {
   "cell_type": "code",
   "execution_count": 2,
   "metadata": {
    "collapsed": false
   },
   "outputs": [
    {
     "data": {
      "text/html": [
       "<div>\n",
       "<table border=\"1\" class=\"dataframe\">\n",
       "  <thead>\n",
       "    <tr style=\"text-align: right;\">\n",
       "      <th></th>\n",
       "      <th>ClientID</th>\n",
       "      <th>Age</th>\n",
       "      <th>Gender</th>\n",
       "      <th>County</th>\n",
       "      <th>IncomeGroup</th>\n",
       "      <th>HeldLoanPreviously</th>\n",
       "      <th>NumberOfProductsInbank</th>\n",
       "      <th>AverageTXNAmount</th>\n",
       "      <th>NumTransactions</th>\n",
       "      <th>LastTXNAmount</th>\n",
       "      <th>MerchantCode</th>\n",
       "      <th>LastTransactionNarrative</th>\n",
       "      <th>LoanFlag</th>\n",
       "    </tr>\n",
       "  </thead>\n",
       "  <tbody>\n",
       "    <tr>\n",
       "      <th>0</th>\n",
       "      <td>1</td>\n",
       "      <td>36</td>\n",
       "      <td>1</td>\n",
       "      <td>Cork</td>\n",
       "      <td>10001 - 40000</td>\n",
       "      <td>1</td>\n",
       "      <td>4</td>\n",
       "      <td>58.000</td>\n",
       "      <td>0.0</td>\n",
       "      <td>NaN</td>\n",
       "      <td>NaN</td>\n",
       "      <td>NaN</td>\n",
       "      <td>0</td>\n",
       "    </tr>\n",
       "    <tr>\n",
       "      <th>1</th>\n",
       "      <td>2</td>\n",
       "      <td>43</td>\n",
       "      <td>1</td>\n",
       "      <td>Cavan</td>\n",
       "      <td>0 - 10000</td>\n",
       "      <td>0</td>\n",
       "      <td>4</td>\n",
       "      <td>2.663</td>\n",
       "      <td>17.0</td>\n",
       "      <td>83.66</td>\n",
       "      <td>7211.0</td>\n",
       "      <td>THE BRIDGE LAUNDRY       WICKLOW TOWN</td>\n",
       "      <td>0</td>\n",
       "    </tr>\n",
       "    <tr>\n",
       "      <th>2</th>\n",
       "      <td>3</td>\n",
       "      <td>32</td>\n",
       "      <td>0</td>\n",
       "      <td>Dublin</td>\n",
       "      <td>10001 - 40000</td>\n",
       "      <td>0</td>\n",
       "      <td>2</td>\n",
       "      <td>46.000</td>\n",
       "      <td>25.0</td>\n",
       "      <td>526.18</td>\n",
       "      <td>3667.0</td>\n",
       "      <td>LUXOR HOTEL/CASINO       LAS VEGAS    NV</td>\n",
       "      <td>0</td>\n",
       "    </tr>\n",
       "    <tr>\n",
       "      <th>3</th>\n",
       "      <td>4</td>\n",
       "      <td>52</td>\n",
       "      <td>1</td>\n",
       "      <td>Louth</td>\n",
       "      <td>40001 - 60000</td>\n",
       "      <td>1</td>\n",
       "      <td>2</td>\n",
       "      <td>0.000</td>\n",
       "      <td>13.0</td>\n",
       "      <td>70.68</td>\n",
       "      <td>5712.0</td>\n",
       "      <td>HARVEY NORMAN            CARRICKMINES</td>\n",
       "      <td>0</td>\n",
       "    </tr>\n",
       "    <tr>\n",
       "      <th>4</th>\n",
       "      <td>5</td>\n",
       "      <td>63</td>\n",
       "      <td>0</td>\n",
       "      <td>Kilkenny</td>\n",
       "      <td>60001 - 100000</td>\n",
       "      <td>0</td>\n",
       "      <td>1</td>\n",
       "      <td>126.000</td>\n",
       "      <td>39.0</td>\n",
       "      <td>259.07</td>\n",
       "      <td>5999.0</td>\n",
       "      <td>PAYPAL *PETEWOODWAR      35314369001</td>\n",
       "      <td>0</td>\n",
       "    </tr>\n",
       "  </tbody>\n",
       "</table>\n",
       "</div>"
      ],
      "text/plain": [
       "   ClientID  Age Gender    County     IncomeGroup HeldLoanPreviously  \\\n",
       "0         1   36      1      Cork   10001 - 40000                  1   \n",
       "1         2   43      1     Cavan       0 - 10000                  0   \n",
       "2         3   32      0    Dublin   10001 - 40000                  0   \n",
       "3         4   52      1     Louth   40001 - 60000                  1   \n",
       "4         5   63      0  Kilkenny  60001 - 100000                  0   \n",
       "\n",
       "  NumberOfProductsInbank  AverageTXNAmount  NumTransactions  LastTXNAmount  \\\n",
       "0                      4            58.000              0.0            NaN   \n",
       "1                      4             2.663             17.0          83.66   \n",
       "2                      2            46.000             25.0         526.18   \n",
       "3                      2             0.000             13.0          70.68   \n",
       "4                      1           126.000             39.0         259.07   \n",
       "\n",
       "   MerchantCode                  LastTransactionNarrative  LoanFlag  \n",
       "0           NaN                                       NaN         0  \n",
       "1        7211.0     THE BRIDGE LAUNDRY       WICKLOW TOWN         0  \n",
       "2        3667.0  LUXOR HOTEL/CASINO       LAS VEGAS    NV         0  \n",
       "3        5712.0     HARVEY NORMAN            CARRICKMINES         0  \n",
       "4        5999.0      PAYPAL *PETEWOODWAR      35314369001         0  "
      ]
     },
     "execution_count": 2,
     "metadata": {},
     "output_type": "execute_result"
    }
   ],
   "source": [
    "df_abt = pd.read_csv(\"../specs/clean/Model Build - AbastractBaseTable.csv\", encoding='latin-1', index_col=False)\n",
    "df_abt.head(5)"
   ]
  },
  {
   "cell_type": "markdown",
   "metadata": {},
   "source": [
    "## Age Attribute"
   ]
  },
  {
   "cell_type": "code",
   "execution_count": 3,
   "metadata": {
    "collapsed": false
   },
   "outputs": [
    {
     "data": {
      "image/png": "[encoded data removed]",
      "text/plain": [
       "<matplotlib.figure.Figure at 0x2835b459860>"
      ]
     },
     "metadata": {},
     "output_type": "display_data"
    }
   ],
   "source": [
    "plt.figure(figsize=(16, 5))\n",
    "plt.xlabel(\"Age\")\n",
    "plt.xlabel(\"Frequency\")\n",
    "\n",
    "df_abt.Age.value_counts().sort_index().plot.bar(title=\"Frequency table Client Age\");"
   ]
  },
  {
   "cell_type": "markdown",
   "metadata": {},
   "source": [
    "As we can see data is almost uniform with the age (as expected), but with two major **outliers**\n",
    "\n",
    "**Age 100**: Its is plausible for centenarians they do have account with BOI. Ref: https://www.irishtimes.com/news/social-affairs/award-for-407-people-who-were-100-last-year-from-president-1.2055829 Ireland has 407 people that are +100 of age, we can assume those are real data points.\n",
    "\n",
    "**Age 200**: We definitly have inconsistance datum here, and in this case we should consult our ETL process, and engage **Personal Account Departments** for veryfying and validating entry records.\n",
    "\n",
    "*Aside: As we are treating date point of people of age 100 not an outlier the sharpe fall of age from 70 -> 100 raise a question of the data collection method*\n",
    "\n",
    "**Conclusion**\n",
    "We are going to remove entries of clients who score age 200 from out ABT"
   ]
  },
  {
   "cell_type": "code",
   "execution_count": 4,
   "metadata": {
    "collapsed": false
   },
   "outputs": [
    {
     "data": {
      "text/plain": [
       "'To be removed'"
      ]
     },
     "execution_count": 4,
     "metadata": {},
     "output_type": "execute_result"
    },
    {
     "data": {
      "text/html": [
       "<div>\n",
       "<table border=\"1\" class=\"dataframe\">\n",
       "  <thead>\n",
       "    <tr style=\"text-align: right;\">\n",
       "      <th></th>\n",
       "      <th>ClientID</th>\n",
       "      <th>Age</th>\n",
       "      <th>Gender</th>\n",
       "      <th>County</th>\n",
       "      <th>IncomeGroup</th>\n",
       "      <th>HeldLoanPreviously</th>\n",
       "      <th>NumberOfProductsInbank</th>\n",
       "      <th>AverageTXNAmount</th>\n",
       "      <th>NumTransactions</th>\n",
       "      <th>LastTXNAmount</th>\n",
       "      <th>MerchantCode</th>\n",
       "      <th>LastTransactionNarrative</th>\n",
       "      <th>LoanFlag</th>\n",
       "    </tr>\n",
       "  </thead>\n",
       "  <tbody>\n",
       "    <tr>\n",
       "      <th>1893</th>\n",
       "      <td>1897</td>\n",
       "      <td>200</td>\n",
       "      <td>1</td>\n",
       "      <td>Waterford</td>\n",
       "      <td>10001 - 40000</td>\n",
       "      <td>1</td>\n",
       "      <td>4</td>\n",
       "      <td>0.000</td>\n",
       "      <td>67.0</td>\n",
       "      <td>868.41</td>\n",
       "      <td>5960.0</td>\n",
       "      <td>CHILL INSURANCE          DUBLIN</td>\n",
       "      <td>1</td>\n",
       "    </tr>\n",
       "    <tr>\n",
       "      <th>3889</th>\n",
       "      <td>3895</td>\n",
       "      <td>200</td>\n",
       "      <td>1</td>\n",
       "      <td>Cork</td>\n",
       "      <td>60001 - 100000</td>\n",
       "      <td>1</td>\n",
       "      <td>2</td>\n",
       "      <td>0.000</td>\n",
       "      <td>14.0</td>\n",
       "      <td>370.62</td>\n",
       "      <td>3726.0</td>\n",
       "      <td>RIO SUITES ADVANCE DEP   866-209-4732 NV</td>\n",
       "      <td>0</td>\n",
       "    </tr>\n",
       "    <tr>\n",
       "      <th>5889</th>\n",
       "      <td>5895</td>\n",
       "      <td>200</td>\n",
       "      <td>1</td>\n",
       "      <td>Dublin</td>\n",
       "      <td>100000+</td>\n",
       "      <td>1</td>\n",
       "      <td>2</td>\n",
       "      <td>2.753</td>\n",
       "      <td>18.0</td>\n",
       "      <td>30.10</td>\n",
       "      <td>3602.0</td>\n",
       "      <td>HUDSON HOTEL             NEW YORK     NY</td>\n",
       "      <td>1</td>\n",
       "    </tr>\n",
       "    <tr>\n",
       "      <th>7889</th>\n",
       "      <td>7895</td>\n",
       "      <td>200</td>\n",
       "      <td>1</td>\n",
       "      <td>Cork</td>\n",
       "      <td>10001 - 40000</td>\n",
       "      <td>0</td>\n",
       "      <td>2</td>\n",
       "      <td>10.000</td>\n",
       "      <td>0.0</td>\n",
       "      <td>NaN</td>\n",
       "      <td>NaN</td>\n",
       "      <td>NaN</td>\n",
       "      <td>0</td>\n",
       "    </tr>\n",
       "    <tr>\n",
       "      <th>9889</th>\n",
       "      <td>9895</td>\n",
       "      <td>200</td>\n",
       "      <td>1</td>\n",
       "      <td>Dublin</td>\n",
       "      <td>60001 - 100000</td>\n",
       "      <td>1</td>\n",
       "      <td>5</td>\n",
       "      <td>333.000</td>\n",
       "      <td>8.0</td>\n",
       "      <td>360.88</td>\n",
       "      <td>3174.0</td>\n",
       "      <td>JETBLUE     2792149891791SALT LAKE CTYUT</td>\n",
       "      <td>0</td>\n",
       "    </tr>\n",
       "  </tbody>\n",
       "</table>\n",
       "</div>"
      ],
      "text/plain": [
       "      ClientID  Age Gender     County     IncomeGroup HeldLoanPreviously  \\\n",
       "1893      1897  200      1  Waterford   10001 - 40000                  1   \n",
       "3889      3895  200      1       Cork  60001 - 100000                  1   \n",
       "5889      5895  200      1     Dublin         100000+                  1   \n",
       "7889      7895  200      1       Cork   10001 - 40000                  0   \n",
       "9889      9895  200      1     Dublin  60001 - 100000                  1   \n",
       "\n",
       "     NumberOfProductsInbank  AverageTXNAmount  NumTransactions  LastTXNAmount  \\\n",
       "1893                      4             0.000             67.0         868.41   \n",
       "3889                      2             0.000             14.0         370.62   \n",
       "5889                      2             2.753             18.0          30.10   \n",
       "7889                      2            10.000              0.0            NaN   \n",
       "9889                      5           333.000              8.0         360.88   \n",
       "\n",
       "      MerchantCode                  LastTransactionNarrative  LoanFlag  \n",
       "1893        5960.0           CHILL INSURANCE          DUBLIN         1  \n",
       "3889        3726.0  RIO SUITES ADVANCE DEP   866-209-4732 NV         0  \n",
       "5889        3602.0  HUDSON HOTEL             NEW YORK     NY         1  \n",
       "7889           NaN                                       NaN         0  \n",
       "9889        3174.0  JETBLUE     2792149891791SALT LAKE CTYUT         0  "
      ]
     },
     "execution_count": 4,
     "metadata": {},
     "output_type": "execute_result"
    }
   ],
   "source": [
    "\"To be removed\"\n",
    "df_abt[df_abt.Age > 100]\n",
    "df_abt = df_abt[df_abt.Age <= 100]"
   ]
  },
  {
   "cell_type": "markdown",
   "metadata": {},
   "source": [
    "## Gender Attribute"
   ]
  },
  {
   "cell_type": "code",
   "execution_count": 5,
   "metadata": {
    "collapsed": false
   },
   "outputs": [
    {
     "data": {
      "image/png": "[encoded data removed]",
      "text/plain": [
       "<matplotlib.figure.Figure at 0x2835b459c50>"
      ]
     },
     "metadata": {},
     "output_type": "display_data"
    }
   ],
   "source": [
    "df_abt.Gender.value_counts().sort_index().plot.barh(title=\"Frequency table Client Gender\");"
   ]
  },
  {
   "cell_type": "markdown",
   "metadata": {},
   "source": [
    "As we can see Gender flag has discrapancy, we need to unify the \"Male\" or \"Female\" across the ABT dataframe"
   ]
  },
  {
   "cell_type": "code",
   "execution_count": 6,
   "metadata": {
    "collapsed": true
   },
   "outputs": [],
   "source": [
    "df_abt.Gender.replace('1',\"Female\", inplace=True)\n",
    "df_abt.Gender.replace('f',\"Female\", inplace=True)\n",
    "df_abt.Gender.replace('fem',\"Female\", inplace=True)\n",
    "df_abt.Gender.replace('female',\"Female\", inplace=True)\n",
    "\n",
    "df_abt.Gender.replace('0',\"Male\", inplace=True)\n",
    "df_abt.Gender.replace('M',\"Male\", inplace=True)\n",
    "df_abt.Gender.replace('m',\"Male\", inplace=True)"
   ]
  },
  {
   "cell_type": "code",
   "execution_count": 7,
   "metadata": {
    "collapsed": false
   },
   "outputs": [
    {
     "data": {
      "image/png": "[encoded data removed]",
      "text/plain": [
       "<matplotlib.figure.Figure at 0x2835b368f60>"
      ]
     },
     "metadata": {},
     "output_type": "display_data"
    }
   ],
   "source": [
    "df_abt.Gender.value_counts().sort_index().plot.barh(title=\"Frequency table Client Gender\");"
   ]
  },
  {
   "cell_type": "markdown",
   "metadata": {},
   "source": [
    "## County Attribute"
   ]
  },
  {
   "cell_type": "code",
   "execution_count": 8,
   "metadata": {
    "collapsed": false
   },
   "outputs": [
    {
     "data": {
      "image/png": "[encoded data removed]",
      "text/plain": [
       "<matplotlib.figure.Figure at 0x2835bbe1c88>"
      ]
     },
     "metadata": {},
     "output_type": "display_data"
    }
   ],
   "source": [
    "plt.figure(figsize=(16, 5))\n",
    "plt.xlabel(\"Counties\")\n",
    "\n",
    "df_abt.County.value_counts().sort_index().plot.bar(title=\"Before Counties Adjustment\");"
   ]
  },
  {
   "cell_type": "markdown",
   "metadata": {
    "collapsed": true
   },
   "source": [
    "Inspecting invalid Counties, as we can see there are a mix between cities, Dublin zip areas and even ports.\n",
    "In this case we need to form a mapping for all invalid location, for a matter of time constraint a lookup dictionary is sufficient to carry out this validation\n",
    "other complex search methods like full Ireland location database or even google location api service."
   ]
  },
  {
   "cell_type": "code",
   "execution_count": 9,
   "metadata": {
    "collapsed": false
   },
   "outputs": [
    {
     "data": {
      "image/png": "[encoded data removed]",
      "text/plain": [
       "<matplotlib.figure.Figure at 0x28358c31d68>"
      ]
     },
     "metadata": {},
     "output_type": "display_data"
    }
   ],
   "source": [
    "irl_location_db = {\n",
    "    'Dublin': ['DÃ\\x9bblin', \"Sandyford\", \"DubÃ\\x9dn\"],\n",
    "    'Antrim': [],\n",
    "    'Down': [],\n",
    "    'Cork': [],\n",
    "    'Galway': [],\n",
    "    'Londonderry': [],\n",
    "    'Kildare': [\"Maynooth\"],\n",
    "    'Limerick': [\"Adare\"],\n",
    "    'Meath': [\"Navan\", \"Trim\"],\n",
    "    'Tyrone': [],\n",
    "    'Armagh': [],\n",
    "    'Donegal': [],\n",
    "    'Tipperary': [],\n",
    "    'Kerry': [],\n",
    "    'Wexford': [\"Rosslare\"],\n",
    "    'Wicklow': [],\n",
    "    'Mayo': [\"Ballina\"],\n",
    "    'Louth': [],\n",
    "    'Clare': [\"Lahinch\"],\n",
    "    'Waterford': [],\n",
    "    'Kilkenny': [],\n",
    "    'Westmeath': [],\n",
    "    'Laois': [],\n",
    "    'Offaly': [],\n",
    "    'Cavan': [],\n",
    "    'Sligo': [],\n",
    "    'Roscommon': [\"Boyle\"],\n",
    "    'Fermanagh': [],\n",
    "    'Monaghan': [],\n",
    "    'Carlow': [\"Borris\"],\n",
    "    'Longford': [],\n",
    "    'Leitrim': [],\n",
    "    'Northern Ireland' : []\n",
    "}\n",
    "\n",
    "invalid_county = set()\n",
    "unmatched_county = set()\n",
    "\n",
    "def uniformalize_name(raw, lookup_table):\n",
    "    for key, value in lookup_table.items():\n",
    "        if re.search(key, str(raw), re.IGNORECASE):\n",
    "            return key\n",
    "\n",
    "    invalid_county.add(str(raw))\n",
    "\n",
    "    for key, value in lookup_table.items():\n",
    "        if str(raw) in value:\n",
    "            return key\n",
    "        \n",
    "    unmatched_county.add(str(raw))\n",
    "    return \"Unmatched_County\"\n",
    "\n",
    "df_abt['County'] = df_abt['County'].apply(func=uniformalize_name, lookup_table=irl_location_db)\n",
    "\n",
    "plt.figure(figsize=(16, 5))\n",
    "plt.xlabel(\"Counties\")\n",
    "df_abt.County.value_counts().sort_index().plot.bar(title=\"After Counties Adjustment\");"
   ]
  },
  {
   "cell_type": "code",
   "execution_count": 10,
   "metadata": {
    "collapsed": false
   },
   "outputs": [
    {
     "name": "stdout",
     "output_type": "stream",
     "text": [
      "Invalid Counties : {'DubÃ\\x9dn', 'nan', 'Maynooth', 'Rosslare', 'Navan', 'Ballina', 'Spain', 'Boyle', 'Borris', 'DÃ\\x9bblin', 'Trim', 'Lahinch', 'Sandyford', 'Adare', ' ', '999'}\n",
      "\n",
      "Unmatched County : {'nan', '999', ' ', 'Spain'}\n"
     ]
    }
   ],
   "source": [
    "print(\"Invalid Counties : \" + str(invalid_county))\n",
    "print()\n",
    "print(\"Unmatched County : \" + str(unmatched_county))"
   ]
  },
  {
   "cell_type": "markdown",
   "metadata": {
    "collapsed": true
   },
   "source": [
    "Final step is to remove all unmatched counties entries, and as before we need to review the ETL process and/or engage the personal account department for review the invalid data."
   ]
  },
  {
   "cell_type": "code",
   "execution_count": 11,
   "metadata": {
    "collapsed": false
   },
   "outputs": [
    {
     "data": {
      "text/plain": [
       "Dublin              4676\n",
       "Cork                1340\n",
       "Offaly               355\n",
       "Clare                297\n",
       "Louth                264\n",
       "Kildare              199\n",
       "Longford             199\n",
       "Laois                196\n",
       "Kerry                193\n",
       "Cavan                192\n",
       "Tipperary            189\n",
       "Mayo                 189\n",
       "Wicklow              188\n",
       "Carlow               182\n",
       "Galway               172\n",
       "Leitrim              167\n",
       "Meath                167\n",
       "Monaghan             164\n",
       "Limerick             164\n",
       "Waterford            164\n",
       "Kilkenny             161\n",
       "Donegal              161\n",
       "Roscommon              1\n",
       "Wexford                1\n",
       "Sligo                  1\n",
       "Northern Ireland       1\n",
       "Name: County, dtype: int64"
      ]
     },
     "execution_count": 11,
     "metadata": {},
     "output_type": "execute_result"
    }
   ],
   "source": [
    "df_abt = df_abt[df_abt.County != \"Unmatched_County\"]\n",
    "df_abt.County.value_counts()"
   ]
  },
  {
   "cell_type": "markdown",
   "metadata": {},
   "source": [
    "## IncomeGroup Attribute"
   ]
  },
  {
   "cell_type": "code",
   "execution_count": 12,
   "metadata": {
    "collapsed": false
   },
   "outputs": [
    {
     "data": {
      "text/plain": [
       "10001 - 40000     5572\n",
       "60001 - 100000    1730\n",
       "40001 - 60000     1174\n",
       "100000+           1133\n",
       "0 - 10000          369\n",
       "10001 ? 40000        2\n",
       "10001 ?. 40000       1\n",
       "0  ? 10000           1\n",
       "10002 - 40000        1\n",
       "Name: IncomeGroup, dtype: int64"
      ]
     },
     "execution_count": 12,
     "metadata": {},
     "output_type": "execute_result"
    }
   ],
   "source": [
    "df_abt.IncomeGroup.value_counts()"
   ]
  },
  {
   "cell_type": "markdown",
   "metadata": {},
   "source": [
    "As we see some IncomeGroup values are invalid "
   ]
  },
  {
   "cell_type": "code",
   "execution_count": 13,
   "metadata": {
    "collapsed": false
   },
   "outputs": [
    {
     "data": {
      "image/png": "[encoded data removed]",
      "text/plain": [
       "<matplotlib.figure.Figure at 0x28358c31d68>"
      ]
     },
     "metadata": {},
     "output_type": "display_data"
    }
   ],
   "source": [
    "df_abt.IncomeGroup.replace('0  ? 10000',\"0 - 10000\", inplace=True)\n",
    "df_abt.IncomeGroup.replace('10001 ? 40000',\"10001 - 40000\", inplace=True)\n",
    "df_abt.IncomeGroup.replace('10001 ?. 40000',\"10001 - 40000\", inplace=True)\n",
    "df_abt.IncomeGroup.replace('10002 - 40000',\"10001 - 40000\", inplace=True)\n",
    "\n",
    "plt.figure(figsize=(16, 5))\n",
    "plt.xlabel(\"IncomeGroup\")\n",
    "df_abt.IncomeGroup.value_counts().sort_index().plot.bar(title=\"IncomeGroup Frequency\");"
   ]
  },
  {
   "cell_type": "markdown",
   "metadata": {},
   "source": [
    "## NumberOfProductsInbank Attribute\n",
    "\n"
   ]
  },
  {
   "cell_type": "code",
   "execution_count": 14,
   "metadata": {
    "collapsed": false,
    "scrolled": true
   },
   "outputs": [
    {
     "data": {
      "text/plain": [
       "3     2015\n",
       "2     2005\n",
       "4     2002\n",
       "5     1988\n",
       "1     1967\n",
       "-1       4\n",
       "         1\n",
       "-2       1\n",
       "Name: NumberOfProductsInbank, dtype: int64"
      ]
     },
     "execution_count": 14,
     "metadata": {},
     "output_type": "execute_result"
    }
   ],
   "source": [
    "df_abt.NumberOfProductsInbank.value_counts()"
   ]
  },
  {
   "cell_type": "markdown",
   "metadata": {},
   "source": [
    "As we see some NumberOfProductsInbank values are invalid. In this case we can't spaculate the original values of the -ve or empty AND they are insignificant compared to the reset of the dataset. Therefore we would exclude them from the dataset."
   ]
  },
  {
   "cell_type": "code",
   "execution_count": 15,
   "metadata": {
    "collapsed": false
   },
   "outputs": [
    {
     "data": {
      "image/png": "[encoded data removed]",
      "text/plain": [
       "<matplotlib.figure.Figure at 0x28358c31da0>"
      ]
     },
     "metadata": {},
     "output_type": "display_data"
    }
   ],
   "source": [
    "df_abt = df_abt[df_abt.NumberOfProductsInbank != '-1']\n",
    "df_abt = df_abt[df_abt.NumberOfProductsInbank != '-2']\n",
    "df_abt = df_abt[df_abt.NumberOfProductsInbank != ' ']\n",
    "\n",
    "\n",
    "plt.figure(figsize=(16, 5))\n",
    "plt.xlabel(\"IncomeGroup\")\n",
    "df_abt.NumberOfProductsInbank.value_counts().sort_index().plot.bar(title=\"NumberOfProductsInBank Frequency\");"
   ]
  },
  {
   "cell_type": "markdown",
   "metadata": {},
   "source": [
    "## AverageTXNAmount Attribute"
   ]
  },
  {
   "cell_type": "code",
   "execution_count": 16,
   "metadata": {
    "collapsed": false
   },
   "outputs": [
    {
     "data": {
      "image/png": "[encoded data removed]",
      "text/plain": [
       "<matplotlib.figure.Figure at 0x2835be64748>"
      ]
     },
     "metadata": {},
     "output_type": "display_data"
    }
   ],
   "source": [
    "df_abt.AverageTXNAmount.hist();"
   ]
  },
  {
   "cell_type": "markdown",
   "metadata": {},
   "source": [
    "## HeldLoanPreviously"
   ]
  },
  {
   "cell_type": "code",
   "execution_count": 17,
   "metadata": {
    "collapsed": false
   },
   "outputs": [
    {
     "data": {
      "text/plain": [
       "0          7483\n",
       "1          2489\n",
       "Â³            4\n",
       " Â-          1\n",
       "Name: HeldLoanPreviously, dtype: int64"
      ]
     },
     "execution_count": 17,
     "metadata": {},
     "output_type": "execute_result"
    }
   ],
   "source": [
    "df_abt.HeldLoanPreviously.value_counts()"
   ]
  },
  {
   "cell_type": "markdown",
   "metadata": {},
   "source": [
    "We have non-ascii characters as a result we will follow a conservative approch of removing the entries from the dataset"
   ]
  },
  {
   "cell_type": "code",
   "execution_count": 18,
   "metadata": {
    "collapsed": false
   },
   "outputs": [
    {
     "data": {
      "image/png": "[encoded data removed]",
      "text/plain": [
       "<matplotlib.figure.Figure at 0x2835bbf7f98>"
      ]
     },
     "metadata": {},
     "output_type": "display_data"
    }
   ],
   "source": [
    "df_abt['HeldLoanPreviously'] = df_abt['HeldLoanPreviously'].map({'0': 0, '1': 1}).fillna(-1).astype(int)\n",
    "df_abt = df_abt[df_abt.HeldLoanPreviously != -1]\n",
    "df_abt.HeldLoanPreviously.value_counts()\n",
    "\n",
    "plt.figure(figsize=(16, 5))\n",
    "plt.xlabel(\"HeldLoanPreviously\")\n",
    "df_abt.HeldLoanPreviously.value_counts().plot.barh(title=\"Previously Held Loan\");"
   ]
  },
  {
   "cell_type": "markdown",
   "metadata": {},
   "source": [
    "## NumTransactions Attribute"
   ]
  },
  {
   "cell_type": "code",
   "execution_count": 19,
   "metadata": {
    "collapsed": false
   },
   "outputs": [
    {
     "data": {
      "text/plain": [
       "<matplotlib.axes._subplots.AxesSubplot at 0x2835c552fd0>"
      ]
     },
     "execution_count": 19,
     "metadata": {},
     "output_type": "execute_result"
    },
    {
     "data": {
      "image/png": "[encoded data removed]",
      "text/plain": [
       "<matplotlib.figure.Figure at 0x2835be588d0>"
      ]
     },
     "metadata": {},
     "output_type": "display_data"
    }
   ],
   "source": [
    "df_abt.NumTransactions.value_counts().hist()"
   ]
  },
  {
   "cell_type": "markdown",
   "metadata": {},
   "source": [
    "## LastTXNAmount"
   ]
  },
  {
   "cell_type": "code",
   "execution_count": 20,
   "metadata": {
    "collapsed": false
   },
   "outputs": [
    {
     "data": {
      "image/png": "[encoded data removed]",
      "text/plain": [
       "<matplotlib.figure.Figure at 0x2835c0c5400>"
      ]
     },
     "metadata": {},
     "output_type": "display_data"
    }
   ],
   "source": [
    "df_abt.LastTXNAmount.value_counts().hist();"
   ]
  },
  {
   "cell_type": "markdown",
   "metadata": {},
   "source": [
    "## MerchantCode"
   ]
  },
  {
   "cell_type": "code",
   "execution_count": 21,
   "metadata": {
    "collapsed": false
   },
   "outputs": [
    {
     "data": {
      "image/png": "[encoded data removed]",
      "text/plain": [
       "<matplotlib.figure.Figure at 0x2835c536d30>"
      ]
     },
     "metadata": {},
     "output_type": "display_data"
    }
   ],
   "source": [
    "df_abt.MerchantCode.value_counts().hist();"
   ]
  },
  {
   "cell_type": "markdown",
   "metadata": {},
   "source": [
    "## LoanFlag Attribute"
   ]
  },
  {
   "cell_type": "code",
   "execution_count": 22,
   "metadata": {
    "collapsed": false
   },
   "outputs": [
    {
     "data": {
      "text/plain": [
       "0    9763\n",
       "1     209\n",
       "Name: LoanFlag, dtype: int64"
      ]
     },
     "execution_count": 22,
     "metadata": {},
     "output_type": "execute_result"
    }
   ],
   "source": [
    "df_abt.LoanFlag.value_counts()"
   ]
  },
  {
   "cell_type": "code",
   "execution_count": 23,
   "metadata": {
    "collapsed": true
   },
   "outputs": [],
   "source": [
    "pd.DataFrame.to_csv(df_abt, \"../specs/clean/Model Build - AbastractBaseTable - Validated.csv\", encoding='utf-8', index=False)"
   ]
  },
  {
   "cell_type": "code",
   "execution_count": null,
   "metadata": {
    "collapsed": true
   },
   "outputs": [],
   "source": []
  },
  {
   "cell_type": "code",
   "execution_count": null,
   "metadata": {
    "collapsed": true
   },
   "outputs": [],
   "source": []
  }
 ],
 "metadata": {
  "kernelspec": {
   "display_name": "Python 3",
   "language": "python",
   "name": "python3"
  },
  "language_info": {
   "codemirror_mode": {
    "name": "ipython",
    "version": 3
   },
   "file_extension": ".py",
   "mimetype": "text/x-python",
   "name": "python",
   "nbconvert_exporter": "python",
   "pygments_lexer": "ipython3",
   "version": "3.6.0"
  }
 },
 "nbformat": 4,
 "nbformat_minor": 2
}
