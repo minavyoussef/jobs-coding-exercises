{
 "cells": [
  {
   "cell_type": "markdown",
   "metadata": {},
   "source": [
    "# Data Preparation"
   ]
  },
  {
   "cell_type": "markdown",
   "metadata": {},
   "source": [
    "A manual files inspection is performed before hand to standardize csv files and we would be able to load the content in appropate dataframes as shown in next.\n",
    "Once we are able to load files to dataframe we investigate data integraty on the content level."
   ]
  },
  {
   "cell_type": "code",
   "execution_count": 1,
   "metadata": {
    "collapsed": true
   },
   "outputs": [],
   "source": [
    "import pandas as pd\n",
    "import numpy as np\n",
    "\n",
    "from IPython.core.interactiveshell import InteractiveShell\n",
    "InteractiveShell.ast_node_interactivity = \"all\""
   ]
  },
  {
   "cell_type": "markdown",
   "metadata": {},
   "source": [
    "### Load *.csv"
   ]
  },
  {
   "cell_type": "code",
   "execution_count": 2,
   "metadata": {
    "collapsed": true
   },
   "outputs": [],
   "source": [
    "df_demographics = pd.read_csv(\"../specs/Model Build - Demographics.csv\", encoding='latin-1', index_col=False)\n",
    "df_previous_load_holdings = pd.read_csv(\"../specs/Model Build - Previous Loan Holdings.csv\", encoding='latin-1', index_col=False)\n",
    "df_product_held_in_bank = pd.read_csv(\"../specs/Model Build - Product Held in Bank.csv\", encoding='latin-1', index_col=False)\n",
    "df_avg_txn_amount = pd.read_csv(\"../specs/Model Build - TXN Amount.csv\", encoding='latin-1', index_col=False)\n",
    "df_target_loan_flag = pd.read_csv(\"../specs/Target Variable - Purchased Loan Flag.csv\", encoding='latin-1', index_col=False)\n",
    "df_ca_txn = pd.read_csv(\"../specs/TEST - Transactions out of Current Account.csv\", encoding='latin-1', index_col=False)"
   ]
  },
  {
   "cell_type": "markdown",
   "metadata": {},
   "source": [
    "### Investigate duplicate customers records, if any"
   ]
  },
  {
   "cell_type": "code",
   "execution_count": 3,
   "metadata": {
    "collapsed": false
   },
   "outputs": [
    {
     "name": "stdout",
     "output_type": "stream",
     "text": [
      "Model Build - Demographics.csv contains duplicate records\n",
      "      ClientID  Age Gender     County    IncomeGroup\n",
      "45          46   56      0      Kerry  10001 - 40000\n",
      "46          46   20      0      Laois  10001 - 40000\n",
      "1220      1220   67      0  Tipperary  10001 - 40000\n",
      "1221      1220   48      1    Kildare        100000+\n",
      "3675      3674   46      0     Galway  10001 - 40000\n",
      "3676      3674   37      1     Carlow  10001 - 40000\n",
      "3677      3675   56      1     Dublin      0 - 10000\n",
      "3678      3675   23      1       Cork  10001 - 40000\n",
      "---------------------------------------------------------------------------------------\n",
      "Model Build - Previous Loan Holdings.csv contains duplicate records\n",
      "      ClientID HeldLoanPreviously\n",
      "20          21                  1\n",
      "21          21                  0\n",
      "46          46                  0\n",
      "47          46                  0\n",
      "1221      1220                  0\n",
      "1222      1220                  0\n",
      "3676      3674                  0\n",
      "3677      3675                  0\n",
      "3678      3674                  0\n",
      "3679      3675                  1\n",
      "---------------------------------------------------------------------------------------\n",
      "Model Build - Product Held in Bank.csv contains duplicate records\n",
      "      ClientID NumberOfProductsInbank\n",
      "45          46                      3\n",
      "46          46                      2\n",
      "1220      1220                      4\n",
      "1221      1220                      4\n",
      "3675      3674                      1\n",
      "3676      3675                      1\n",
      "3677      3674                      2\n",
      "3678      3675                      5\n",
      "---------------------------------------------------------------------------------------\n",
      "Model Build - TXN Amount.csv contains duplicate records\n",
      "      ClientID  AverageTXNAmount\n",
      "45          46             0.000\n",
      "46          46             0.000\n",
      "1220      1220            57.000\n",
      "1221      1220            57.000\n",
      "3675      3674             0.000\n",
      "3676      3675             0.000\n",
      "3677      3674             0.000\n",
      "3678      3675             1.636\n",
      "---------------------------------------------------------------------------------------\n",
      "Target Variable - Purchased Loan Flag.csv contains duplicate records\n",
      "      ClientID  LoanFlag\n",
      "45          46         0\n",
      "46          46         0\n",
      "1220      1220         0\n",
      "1221      1220         0\n",
      "3675      3674         0\n",
      "3676      3675         0\n",
      "3677      3674         0\n",
      "3678      3675         0\n",
      "---------------------------------------------------------------------------------------\n",
      "TEST - Transactions out of Current Account.csv contains duplicate records\n",
      "      ClientID  NumTransactions  LastTXNAmount  MerchantCode  \\\n",
      "45        46.0             11.0         476.30        7829.0   \n",
      "46        46.0              0.0            NaN           NaN   \n",
      "1220    1220.0             14.0         316.90        3008.0   \n",
      "1221    1220.0             14.0         492.88        7311.0   \n",
      "3675    3674.0             19.0         838.98        5211.0   \n",
      "3676    3674.0              0.0            NaN           NaN   \n",
      "3677    3675.0             11.0         789.95        3364.0   \n",
      "3678    3675.0             17.0         509.55        8049.0   \n",
      "\n",
      "                    LastTransactionNarrative  Unnamed: 5  Unnamed: 6  \\\n",
      "45    OMNIPLEX CINEMA LIMERICK LIMERICK CO L         NaN         NaN   \n",
      "46                                       NaN         NaN         NaN   \n",
      "1220      LUFTHANSA AG2201000000000FRANKFURT         NaN         NaN   \n",
      "1221         THE IRISH TIMES LTD      DUBLIN         NaN         NaN   \n",
      "3675       B & Q IRELAND            TALLAGHT         NaN         NaN   \n",
      "3676                                     NaN         NaN         NaN   \n",
      "3677      TICKET DESK CHARLEROI    GOSSELIES         NaN         NaN   \n",
      "3678           FOOT STOP LIMITED        NAAS         NaN         NaN   \n",
      "\n",
      "      Unnamed: 7   0  \n",
      "45           NaN NaN  \n",
      "46           NaN NaN  \n",
      "1220         NaN NaN  \n",
      "1221         NaN NaN  \n",
      "3675         NaN NaN  \n",
      "3676         NaN NaN  \n",
      "3677         NaN NaN  \n",
      "3678         NaN NaN  \n",
      "---------------------------------------------------------------------------------------\n"
     ]
    }
   ],
   "source": [
    "def print_duplicate_status(df, df_name):\n",
    "    s = df.ClientID.value_counts()\n",
    "    dup_list = s[s > 1].index\n",
    "    if dup_list is []:\n",
    "        print(df_name + \" does not contains duplicate records\")\n",
    "    else:\n",
    "        print(df_name + \" contains duplicate records\")\n",
    "        print(df.loc[df['ClientID'].isin(dup_list)])\n",
    "        \n",
    "    print(\"---------------------------------------------------------------------------------------\")\n",
    "\n",
    "print_duplicate_status(df_demographics, \"Model Build - Demographics.csv\")\n",
    "print_duplicate_status(df_previous_load_holdings, \"Model Build - Previous Loan Holdings.csv\")\n",
    "print_duplicate_status(df_product_held_in_bank, \"Model Build - Product Held in Bank.csv\")\n",
    "print_duplicate_status(df_avg_txn_amount, \"Model Build - TXN Amount.csv\")\n",
    "print_duplicate_status(df_target_loan_flag, \"Target Variable - Purchased Loan Flag.csv\")\n",
    "print_duplicate_status(df_ca_txn, \"TEST - Transactions out of Current Account.csv\")\n"
   ]
  },
  {
   "cell_type": "markdown",
   "metadata": {},
   "source": [
    "## Conclusion:\n",
    "As the union set of duplicate client rows reveals a 5 duplicate records out of 10,000, which represents 0.05% of the dataset. We can safely neglect it from further analysis\n",
    "Otherwise, a deeper investigation of the ETL process of how the dataset is constructed to determine the approparate policy for handling duplicate and/or missing records."
   ]
  },
  {
   "cell_type": "markdown",
   "metadata": {},
   "source": [
    "### Remove duplicates"
   ]
  },
  {
   "cell_type": "code",
   "execution_count": 4,
   "metadata": {
    "collapsed": false
   },
   "outputs": [
    {
     "name": "stdout",
     "output_type": "stream",
     "text": [
      "ClientIDs is be excluded from data set: {1220, 46, 21, 3674, 3675}\n"
     ]
    }
   ],
   "source": [
    "def extract_duplicate_status(df):\n",
    "    s = df.ClientID.value_counts()\n",
    "    return s[s > 1].index\n",
    "\n",
    "dup_client_ids = []\n",
    "dup_client_ids.extend(extract_duplicate_status(df_demographics))\n",
    "dup_client_ids.extend(extract_duplicate_status(df_previous_load_holdings))\n",
    "dup_client_ids.extend(extract_duplicate_status(df_product_held_in_bank))\n",
    "dup_client_ids.extend(extract_duplicate_status(df_avg_txn_amount))\n",
    "dup_client_ids.extend(extract_duplicate_status(df_ca_txn))\n",
    "dup_client_ids = set(dup_client_ids)\n",
    "print(\"ClientIDs is be excluded from data set: \" + str(dup_client_ids))\n"
   ]
  },
  {
   "cell_type": "code",
   "execution_count": 5,
   "metadata": {
    "collapsed": false
   },
   "outputs": [],
   "source": [
    "df_demographics = df_demographics[~df_demographics.ClientID.isin(dup_client_ids)]\n",
    "df_previous_load_holdings = df_previous_load_holdings[~df_previous_load_holdings.ClientID.isin(dup_client_ids)]\n",
    "df_product_held_in_bank = df_product_held_in_bank[~df_product_held_in_bank.ClientID.isin(dup_client_ids)]\n",
    "df_avg_txn_amount = df_avg_txn_amount[~df_avg_txn_amount.ClientID.isin(dup_client_ids)]\n",
    "df_target_loan_flag = df_target_loan_flag[~df_target_loan_flag.ClientID.isin(dup_client_ids)]\n",
    "df_ca_txn = df_ca_txn[~df_ca_txn.ClientID.isin(dup_client_ids)]\n"
   ]
  },
  {
   "cell_type": "markdown",
   "metadata": {},
   "source": [
    "### Persist the clean dataset"
   ]
  },
  {
   "cell_type": "code",
   "execution_count": 6,
   "metadata": {
    "collapsed": false
   },
   "outputs": [],
   "source": [
    "pd.DataFrame.to_csv(df_demographics, \"../specs/clean/Model Build - Demographics.csv\", encoding='utf-8', index=False)\n",
    "pd.DataFrame.to_csv(df_previous_load_holdings, \"../specs/clean/Model Build - Previous Loan Holdings.csv\", encoding='utf-8', index=False)\n",
    "pd.DataFrame.to_csv(df_product_held_in_bank, \"../specs/clean/Model Build - Product Held in Bank.csv\", encoding='utf-8', index=False)\n",
    "pd.DataFrame.to_csv(df_avg_txn_amount, \"../specs/clean/Model Build - TXN Amount.csv\", encoding='utf-8', index=False)\n",
    "pd.DataFrame.to_csv(df_target_loan_flag, \"../specs/clean/Target Variable - Purchased Loan Flag.csv\", encoding='utf-8', index=False)\n",
    "pd.DataFrame.to_csv(df_ca_txn, \"../specs/clean/TEST - Transactions out of Current Account.csv\", encoding='utf-8', index=False)"
   ]
  },
  {
   "cell_type": "markdown",
   "metadata": {},
   "source": [
    "### Merge *.csv into Abstract Base Table (ABT)"
   ]
  },
  {
   "cell_type": "code",
   "execution_count": 7,
   "metadata": {
    "collapsed": false
   },
   "outputs": [
    {
     "data": {
      "text/html": [
       "<div>\n",
       "<table border=\"1\" class=\"dataframe\">\n",
       "  <thead>\n",
       "    <tr style=\"text-align: right;\">\n",
       "      <th></th>\n",
       "      <th>ClientID</th>\n",
       "      <th>Age</th>\n",
       "      <th>Gender</th>\n",
       "      <th>County</th>\n",
       "      <th>IncomeGroup</th>\n",
       "      <th>HeldLoanPreviously</th>\n",
       "      <th>NumberOfProductsInbank</th>\n",
       "      <th>AverageTXNAmount</th>\n",
       "      <th>NumTransactions</th>\n",
       "      <th>LastTXNAmount</th>\n",
       "      <th>MerchantCode</th>\n",
       "      <th>LastTransactionNarrative</th>\n",
       "      <th>LoanFlag</th>\n",
       "    </tr>\n",
       "  </thead>\n",
       "  <tbody>\n",
       "    <tr>\n",
       "      <th>0</th>\n",
       "      <td>1</td>\n",
       "      <td>36</td>\n",
       "      <td>1</td>\n",
       "      <td>Cork</td>\n",
       "      <td>10001 - 40000</td>\n",
       "      <td>1</td>\n",
       "      <td>4</td>\n",
       "      <td>58.000</td>\n",
       "      <td>0.0</td>\n",
       "      <td>NaN</td>\n",
       "      <td>NaN</td>\n",
       "      <td>NaN</td>\n",
       "      <td>0</td>\n",
       "    </tr>\n",
       "    <tr>\n",
       "      <th>1</th>\n",
       "      <td>2</td>\n",
       "      <td>43</td>\n",
       "      <td>1</td>\n",
       "      <td>Cavan</td>\n",
       "      <td>0 - 10000</td>\n",
       "      <td>0</td>\n",
       "      <td>4</td>\n",
       "      <td>2.663</td>\n",
       "      <td>17.0</td>\n",
       "      <td>83.66</td>\n",
       "      <td>7211.0</td>\n",
       "      <td>THE BRIDGE LAUNDRY       WICKLOW TOWN</td>\n",
       "      <td>0</td>\n",
       "    </tr>\n",
       "    <tr>\n",
       "      <th>2</th>\n",
       "      <td>3</td>\n",
       "      <td>32</td>\n",
       "      <td>0</td>\n",
       "      <td>Dublin</td>\n",
       "      <td>10001 - 40000</td>\n",
       "      <td>0</td>\n",
       "      <td>2</td>\n",
       "      <td>46.000</td>\n",
       "      <td>25.0</td>\n",
       "      <td>526.18</td>\n",
       "      <td>3667.0</td>\n",
       "      <td>LUXOR HOTEL/CASINO       LAS VEGAS    NV</td>\n",
       "      <td>0</td>\n",
       "    </tr>\n",
       "    <tr>\n",
       "      <th>3</th>\n",
       "      <td>4</td>\n",
       "      <td>52</td>\n",
       "      <td>1</td>\n",
       "      <td>Louth</td>\n",
       "      <td>40001 - 60000</td>\n",
       "      <td>1</td>\n",
       "      <td>2</td>\n",
       "      <td>0.000</td>\n",
       "      <td>13.0</td>\n",
       "      <td>70.68</td>\n",
       "      <td>5712.0</td>\n",
       "      <td>HARVEY NORMAN            CARRICKMINES</td>\n",
       "      <td>0</td>\n",
       "    </tr>\n",
       "    <tr>\n",
       "      <th>4</th>\n",
       "      <td>5</td>\n",
       "      <td>63</td>\n",
       "      <td>0</td>\n",
       "      <td>Kilkenny</td>\n",
       "      <td>60001 - 100000</td>\n",
       "      <td>0</td>\n",
       "      <td>1</td>\n",
       "      <td>126.000</td>\n",
       "      <td>39.0</td>\n",
       "      <td>259.07</td>\n",
       "      <td>5999.0</td>\n",
       "      <td>PAYPAL *PETEWOODWAR      35314369001</td>\n",
       "      <td>0</td>\n",
       "    </tr>\n",
       "  </tbody>\n",
       "</table>\n",
       "</div>"
      ],
      "text/plain": [
       "   ClientID  Age Gender    County     IncomeGroup HeldLoanPreviously  \\\n",
       "0         1   36      1      Cork   10001 - 40000                  1   \n",
       "1         2   43      1     Cavan       0 - 10000                  0   \n",
       "2         3   32      0    Dublin   10001 - 40000                  0   \n",
       "3         4   52      1     Louth   40001 - 60000                  1   \n",
       "4         5   63      0  Kilkenny  60001 - 100000                  0   \n",
       "\n",
       "  NumberOfProductsInbank  AverageTXNAmount  NumTransactions  LastTXNAmount  \\\n",
       "0                      4            58.000              0.0            NaN   \n",
       "1                      4             2.663             17.0          83.66   \n",
       "2                      2            46.000             25.0         526.18   \n",
       "3                      2             0.000             13.0          70.68   \n",
       "4                      1           126.000             39.0         259.07   \n",
       "\n",
       "   MerchantCode                  LastTransactionNarrative  LoanFlag  \n",
       "0           NaN                                       NaN         0  \n",
       "1        7211.0     THE BRIDGE LAUNDRY       WICKLOW TOWN         0  \n",
       "2        3667.0  LUXOR HOTEL/CASINO       LAS VEGAS    NV         0  \n",
       "3        5712.0     HARVEY NORMAN            CARRICKMINES         0  \n",
       "4        5999.0      PAYPAL *PETEWOODWAR      35314369001         0  "
      ]
     },
     "execution_count": 7,
     "metadata": {},
     "output_type": "execute_result"
    },
    {
     "data": {
      "text/html": [
       "<div>\n",
       "<table border=\"1\" class=\"dataframe\">\n",
       "  <thead>\n",
       "    <tr style=\"text-align: right;\">\n",
       "      <th></th>\n",
       "      <th>ClientID</th>\n",
       "      <th>Age</th>\n",
       "      <th>Gender</th>\n",
       "      <th>County</th>\n",
       "      <th>IncomeGroup</th>\n",
       "      <th>HeldLoanPreviously</th>\n",
       "      <th>NumberOfProductsInbank</th>\n",
       "      <th>AverageTXNAmount</th>\n",
       "      <th>NumTransactions</th>\n",
       "      <th>LastTXNAmount</th>\n",
       "      <th>MerchantCode</th>\n",
       "      <th>LastTransactionNarrative</th>\n",
       "      <th>LoanFlag</th>\n",
       "    </tr>\n",
       "  </thead>\n",
       "  <tbody>\n",
       "    <tr>\n",
       "      <th>9990</th>\n",
       "      <td>9996</td>\n",
       "      <td>70</td>\n",
       "      <td>1</td>\n",
       "      <td>Cork</td>\n",
       "      <td>10001 ? 40000</td>\n",
       "      <td>0</td>\n",
       "      <td>3</td>\n",
       "      <td>1.501</td>\n",
       "      <td>18.0</td>\n",
       "      <td>332.96</td>\n",
       "      <td>7379.0</td>\n",
       "      <td>LAPTECK LTD              GALWAY</td>\n",
       "      <td>0</td>\n",
       "    </tr>\n",
       "    <tr>\n",
       "      <th>9991</th>\n",
       "      <td>9997</td>\n",
       "      <td>36</td>\n",
       "      <td>1</td>\n",
       "      <td>Galway</td>\n",
       "      <td>10001 - 40000</td>\n",
       "      <td>0</td>\n",
       "      <td>5</td>\n",
       "      <td>185.000</td>\n",
       "      <td>5.0</td>\n",
       "      <td>222.59</td>\n",
       "      <td>3730.0</td>\n",
       "      <td>MGM GRAND - FRONT DESK   LAS VEGAS    NV</td>\n",
       "      <td>0</td>\n",
       "    </tr>\n",
       "    <tr>\n",
       "      <th>9992</th>\n",
       "      <td>9998</td>\n",
       "      <td>43</td>\n",
       "      <td>1</td>\n",
       "      <td>Laois</td>\n",
       "      <td>10001 - 40000</td>\n",
       "      <td>0</td>\n",
       "      <td>1</td>\n",
       "      <td>0.000</td>\n",
       "      <td>0.0</td>\n",
       "      <td>NaN</td>\n",
       "      <td>NaN</td>\n",
       "      <td>NaN</td>\n",
       "      <td>0</td>\n",
       "    </tr>\n",
       "    <tr>\n",
       "      <th>9993</th>\n",
       "      <td>9999</td>\n",
       "      <td>32</td>\n",
       "      <td>0</td>\n",
       "      <td>Dublin</td>\n",
       "      <td>10001 - 40000</td>\n",
       "      <td>1</td>\n",
       "      <td>2</td>\n",
       "      <td>0.000</td>\n",
       "      <td>37.0</td>\n",
       "      <td>853.35</td>\n",
       "      <td>3779.0</td>\n",
       "      <td>W DOHA HOTELS &amp; RESIDENCEDOHA</td>\n",
       "      <td>0</td>\n",
       "    </tr>\n",
       "    <tr>\n",
       "      <th>9994</th>\n",
       "      <td>10000</td>\n",
       "      <td>52</td>\n",
       "      <td>1</td>\n",
       "      <td>Dublin</td>\n",
       "      <td>100000+</td>\n",
       "      <td>0</td>\n",
       "      <td>5</td>\n",
       "      <td>0.000</td>\n",
       "      <td>6.0</td>\n",
       "      <td>618.59</td>\n",
       "      <td>3825.0</td>\n",
       "      <td>HOTEL XALET BESOLI       ARINSAL</td>\n",
       "      <td>0</td>\n",
       "    </tr>\n",
       "  </tbody>\n",
       "</table>\n",
       "</div>"
      ],
      "text/plain": [
       "      ClientID  Age Gender  County    IncomeGroup HeldLoanPreviously  \\\n",
       "9990      9996   70      1    Cork  10001 ? 40000                  0   \n",
       "9991      9997   36      1  Galway  10001 - 40000                  0   \n",
       "9992      9998   43      1   Laois  10001 - 40000                  0   \n",
       "9993      9999   32      0  Dublin  10001 - 40000                  1   \n",
       "9994     10000   52      1  Dublin        100000+                  0   \n",
       "\n",
       "     NumberOfProductsInbank  AverageTXNAmount  NumTransactions  LastTXNAmount  \\\n",
       "9990                      3             1.501             18.0         332.96   \n",
       "9991                      5           185.000              5.0         222.59   \n",
       "9992                      1             0.000              0.0            NaN   \n",
       "9993                      2             0.000             37.0         853.35   \n",
       "9994                      5             0.000              6.0         618.59   \n",
       "\n",
       "      MerchantCode                  LastTransactionNarrative  LoanFlag  \n",
       "9990        7379.0           LAPTECK LTD              GALWAY         0  \n",
       "9991        3730.0  MGM GRAND - FRONT DESK   LAS VEGAS    NV         0  \n",
       "9992           NaN                                       NaN         0  \n",
       "9993        3779.0             W DOHA HOTELS & RESIDENCEDOHA         0  \n",
       "9994        3825.0          HOTEL XALET BESOLI       ARINSAL         0  "
      ]
     },
     "execution_count": 7,
     "metadata": {},
     "output_type": "execute_result"
    }
   ],
   "source": [
    "# features\n",
    "df_abt = pd.merge(left=df_demographics, right=df_previous_load_holdings, how='left', left_on='ClientID', right_on='ClientID')\n",
    "df_abt = pd.merge(left=df_abt, right=df_product_held_in_bank, how='left', left_on='ClientID', right_on='ClientID')\n",
    "df_abt = pd.merge(left=df_abt, right=df_avg_txn_amount, how='left', left_on='ClientID', right_on='ClientID')\n",
    "df_abt = pd.merge(left=df_abt, right=df_ca_txn, how='left', left_on='ClientID', right_on='ClientID')\n",
    "df_abt = df_abt.iloc[:, :-4]\n",
    "# target\n",
    "df_abt = pd.merge(left=df_abt, right=df_target_loan_flag, how='left', left_on='ClientID', right_on='ClientID')\n",
    "df_abt.head(5)\n",
    "df_abt.tail(5)\n"
   ]
  },
  {
   "cell_type": "markdown",
   "metadata": {},
   "source": [
    "As we expected we have *10000-5=9995* client information"
   ]
  },
  {
   "cell_type": "markdown",
   "metadata": {},
   "source": [
    "## Persist ABT for future analysis"
   ]
  },
  {
   "cell_type": "code",
   "execution_count": 8,
   "metadata": {
    "collapsed": false
   },
   "outputs": [],
   "source": [
    "pd.DataFrame.to_csv(df_abt, \"../specs/clean/Model Build - AbastractBaseTable.csv\", encoding='utf-8', index=False)"
   ]
  },
  {
   "cell_type": "code",
   "execution_count": null,
   "metadata": {
    "collapsed": true
   },
   "outputs": [],
   "source": []
  }
 ],
 "metadata": {
  "kernelspec": {
   "display_name": "Python 3",
   "language": "python",
   "name": "python3"
  },
  "language_info": {
   "codemirror_mode": {
    "name": "ipython",
    "version": 3
   },
   "file_extension": ".py",
   "mimetype": "text/x-python",
   "name": "python",
   "nbconvert_exporter": "python",
   "pygments_lexer": "ipython3",
   "version": "3.6.0"
  }
 },
 "nbformat": 4,
 "nbformat_minor": 2
}
